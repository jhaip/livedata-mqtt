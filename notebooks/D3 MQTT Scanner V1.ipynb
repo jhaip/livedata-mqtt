{
 "cells": [
  {
   "cell_type": "markdown",
   "metadata": {},
   "source": [
    "Something is probably off in the wiring and I haven't used it in long enough that I don't know if the wiring is off.  The current wiring was something I had written in a old notebook on about 8/4/15.\n",
    "\n",
    "![notebook](https://www.dropbox.com/s/7gsu28l6ri22bt1/Photo%20Nov%2006%2C%205%2000%2019%20PM.jpg?raw=1)"
   ]
  },
  {
   "cell_type": "markdown",
   "metadata": {},
   "source": [
    "# Notes from reading the TSL1406 datasheet\n",
    "\n",
    "* Supply Voltage Min 3V Max 5.5V.  Currently being powerd by 3.3V from the Photon 3.3V pin\n",
    "* 3.3V logic should work fine for the controlling pins `hold` and `clock`\n",
    "* Clock Frequency 5-8000kHz.  Not sure what this is yet but perhaps the photon code that sends the analog reading in between every pixel is too slow to meet this requirement?\n",
    "* V_out Typically 2V for White, 0.1 V for black pixels"
   ]
  },
  {
   "cell_type": "markdown",
   "metadata": {},
   "source": [
    "## Sigh\n",
    "\n",
    "Wiring looks right and I tried playing with the exposure timing and delays in between Clock pulses.  Data became all white and I couldn't figure out how to make the analog readings low.\n",
    "\n",
    "It's tough without an oscilloscope to probe the signals that I would normally borrow from Ryan.\n",
    "\n",
    "I think I will take a step back and start smaller using the same pins but using a potentiometer to mimic the analog readings so the circuit is simpler and I can check values by hand."
   ]
  },
  {
   "cell_type": "code",
   "execution_count": null,
   "metadata": {
    "collapsed": true
   },
   "outputs": [],
   "source": []
  }
 ],
 "metadata": {
  "kernelspec": {
   "display_name": "Python 2",
   "language": "python",
   "name": "python2"
  },
  "language_info": {
   "codemirror_mode": {
    "name": "ipython",
    "version": 2
   },
   "file_extension": ".py",
   "mimetype": "text/x-python",
   "name": "python",
   "nbconvert_exporter": "python",
   "pygments_lexer": "ipython2",
   "version": "2.7.11"
  }
 },
 "nbformat": 4,
 "nbformat_minor": 1
}
