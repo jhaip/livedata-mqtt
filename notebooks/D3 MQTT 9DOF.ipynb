{
 "cells": [
  {
   "cell_type": "markdown",
   "metadata": {},
   "source": [
    "# Step 1: Set up D3 area"
   ]
  },
  {
   "cell_type": "code",
   "execution_count": 1,
   "metadata": {
    "collapsed": true
   },
   "outputs": [],
   "source": [
    "from IPython.core.display import display, HTML\n",
    "from string import Template\n",
    "import pandas as pd\n",
    "import json, random"
   ]
  },
  {
   "cell_type": "code",
   "execution_count": 2,
   "metadata": {
    "collapsed": false
   },
   "outputs": [
    {
     "data": {
      "application/javascript": [
       "require.config({paths: {d3: \"https://d3js.org/d3.v4.min\"}});\n",
       "require(['d3'], function(d3) {\n",
       "    window.d3 = d3;\n",
       "})"
      ],
      "text/plain": [
       "<IPython.core.display.Javascript object>"
      ]
     },
     "metadata": {},
     "output_type": "display_data"
    }
   ],
   "source": [
    "%%javascript\n",
    "require.config({paths: {d3: \"https://d3js.org/d3.v4.min\"}});\n",
    "require(['d3'], function(d3) {\n",
    "    window.d3 = d3;\n",
    "})"
   ]
  },
  {
   "cell_type": "code",
   "execution_count": 3,
   "metadata": {
    "collapsed": false
   },
   "outputs": [],
   "source": [
    "html_template = Template('''\n",
    "<svg id=\"graph-div\"></div>\n",
    "<script> $js_text </script>\n",
    "''')"
   ]
  },
  {
   "cell_type": "code",
   "execution_count": 17,
   "metadata": {
    "collapsed": false
   },
   "outputs": [],
   "source": [
    "js_text_template = Template('''\n",
    "var data = $data;\n",
    "var itemWidth = 50;\n",
    "var itemHeight = 50;\n",
    "\n",
    "var chart = d3.select('#graph-div')\n",
    "    .attr('width', 800)\n",
    "    .attr('height', itemHeight*4);\n",
    "\n",
    "function update() {\n",
    "    var row = chart.selectAll('.item')\n",
    "        .data(data);\n",
    "    \n",
    "    var row2 = row.enter()\n",
    "        .append('g')\n",
    "        .attr(\"class\", \"item\");\n",
    "        \n",
    "    row2.merge(row)\n",
    "        .attr('transform', function(d, i){\n",
    "            return 'translate(' + i*(itemWidth+5) + ', ' + itemHeight + ')rotate(' + d + ', ' + itemWidth*0.5 + ', ' + itemHeight*0.5 + ')';\n",
    "        });\n",
    "\n",
    "    row2.append('rect')\n",
    "        .attr(\"width\", itemWidth)\n",
    "        .attr(\"height\", itemHeight)\n",
    "        .attr(\"fill\", \"#9999FF\")\n",
    "        .attr(\"stroke\", \"#5555AA\");\n",
    "\n",
    "    row2.append(\"text\")\n",
    "        .text(\"Hello\");\n",
    "}\n",
    "\n",
    "update();\n",
    "''')"
   ]
  },
  {
   "cell_type": "code",
   "execution_count": 18,
   "metadata": {
    "collapsed": false
   },
   "outputs": [
    {
     "data": {
      "text/html": [
       "\n",
       "<svg id=\"graph-div\"></div>\n",
       "<script> \n",
       "var data = [0, 10, 20, 30];\n",
       "var itemWidth = 50;\n",
       "var itemHeight = 50;\n",
       "\n",
       "var chart = d3.select('#graph-div')\n",
       "    .attr('width', 800)\n",
       "    .attr('height', itemHeight*4);\n",
       "\n",
       "function update() {\n",
       "    var row = chart.selectAll('.item')\n",
       "        .data(data);\n",
       "    \n",
       "    var row2 = row.enter()\n",
       "        .append('g')\n",
       "        .attr(\"class\", \"item\");\n",
       "        \n",
       "    row2.merge(row)\n",
       "        .attr('transform', function(d, i){\n",
       "            return 'translate(' + i*(itemWidth+5) + ', ' + itemHeight + ')rotate(' + d + ', ' + itemWidth*0.5 + ', ' + itemHeight*0.5 + ')';\n",
       "        });\n",
       "\n",
       "    row2.append('rect')\n",
       "        .attr(\"width\", itemWidth)\n",
       "        .attr(\"height\", itemHeight)\n",
       "        .attr(\"fill\", \"#9999FF\")\n",
       "        .attr(\"stroke\", \"#5555AA\");\n",
       "\n",
       "    row2.append(\"text\")\n",
       "        .text(\"Hello\");\n",
       "}\n",
       "\n",
       "update();\n",
       " </script>\n"
      ],
      "text/plain": [
       "<IPython.core.display.HTML object>"
      ]
     },
     "execution_count": 18,
     "metadata": {},
     "output_type": "execute_result"
    }
   ],
   "source": [
    "data = [0,10,20,30];\n",
    "js_text = js_text_template.substitute({'data': json.dumps(data)})\n",
    "HTML(html_template.substitute({'js_text': js_text}))"
   ]
  },
  {
   "cell_type": "markdown",
   "metadata": {},
   "source": [
    "Only run the following cell after running everything else.  It was only places here so the slider could be next to the visualization."
   ]
  },
  {
   "cell_type": "code",
   "execution_count": 36,
   "metadata": {
    "collapsed": false
   },
   "outputs": [
    {
     "data": {
      "text/html": [
       "<script>\n",
       "data = [-38.56, -39.88, -42.94, -44.19, -45.75, -42.88, -30.56, -17.06, -9.56, -3.75];\n",
       "update();\n",
       "console.log(\"updating\");\n",
       "</script>"
      ],
      "text/plain": [
       "<IPython.core.display.HTML object>"
      ]
     },
     "metadata": {},
     "output_type": "display_data"
    }
   ],
   "source": [
    "interact(update_from_slider, x=widgets.IntSlider(min=0,max=len(data)-10,step=1,value=0));"
   ]
  },
  {
   "cell_type": "markdown",
   "metadata": {},
   "source": [
    "### OK, the D3 area is set up\n",
    "\n",
    "Now we'll focus on live updating.  A manual test first."
   ]
  },
  {
   "cell_type": "code",
   "execution_count": 25,
   "metadata": {
    "collapsed": false
   },
   "outputs": [],
   "source": [
    "js_text_template_2 = Template('''\n",
    "data = $data;\n",
    "update();\n",
    "console.log(\"updating\");\n",
    "''')"
   ]
  },
  {
   "cell_type": "code",
   "execution_count": 26,
   "metadata": {
    "collapsed": false
   },
   "outputs": [
    {
     "data": {
      "text/html": [
       "<script>\n",
       "data = [0, 0, 0, 0, 0, 0];\n",
       "update();\n",
       "console.log(\"updating\");\n",
       "</script>"
      ],
      "text/plain": [
       "<IPython.core.display.HTML object>"
      ]
     },
     "metadata": {},
     "output_type": "display_data"
    }
   ],
   "source": [
    "data = [0,0,0,0,0,0]\n",
    "\n",
    "def update_graph(data):\n",
    "    js_text = js_text_template_2.substitute({'data': json.dumps(data)})\n",
    "    display(HTML('<script>' + js_text + '</script>'))\n",
    "\n",
    "update_graph(data)"
   ]
  },
  {
   "cell_type": "markdown",
   "metadata": {},
   "source": [
    "# Step 2: Now use MQTT to update the graph\n",
    "\n",
    "Now for the fun stuff.  Using the `update_graph(data)` function set up above.  Each group of data, separated by `\"start\"` messages, is saved in the `tests` array.  As new data comes in, the live data graph is updated to show data from the last test.  All data is neatly saved inside the tests array for replotting and further analysis later.\n",
    "\n",
    "Using the CloudMQTT free Cat plan:\n",
    "* https://api.cloudmqtt.com/sso/cloudmqtt/console\n",
    "* haipjacob@gmail.com:paramour-sieve-paper\n",
    "* If the Websocket UI has trouble connecting, restart the instance"
   ]
  },
  {
   "cell_type": "code",
   "execution_count": 29,
   "metadata": {
    "collapsed": false
   },
   "outputs": [
    {
     "name": "stdout",
     "output_type": "stream",
     "text": [
      "Connected with result code 0\n",
      "{u'Z': 1.19, u'label': u'Or', u'Y': 0.0, u'X': 348.12, u'tick': u'2045918', u'type': u'BINARY'}\n"
     ]
    },
    {
     "data": {
      "text/html": [
       "<script>\n",
       "data = [0, 0, 0, 0, 0, 0, 0, 0, 0, 1.19];\n",
       "update();\n",
       "console.log(\"updating\");\n",
       "</script>"
      ],
      "text/plain": [
       "<IPython.core.display.HTML object>"
      ]
     },
     "metadata": {},
     "output_type": "display_data"
    },
    {
     "name": "stdout",
     "output_type": "stream",
     "text": [
      "[0, 0, 0, 0, 0, 1.19]\n",
      "{u'Z': 1.19, u'label': u'Or', u'Y': 0.0, u'X': 348.12, u'tick': u'2046122', u'type': u'BINARY'}\n"
     ]
    },
    {
     "data": {
      "text/html": [
       "<script>\n",
       "data = [0, 0, 0, 0, 0, 0, 0, 0, 1.19, 1.19];\n",
       "update();\n",
       "console.log(\"updating\");\n",
       "</script>"
      ],
      "text/plain": [
       "<IPython.core.display.HTML object>"
      ]
     },
     "metadata": {},
     "output_type": "display_data"
    },
    {
     "name": "stdout",
     "output_type": "stream",
     "text": [
      "[0, 0, 0, 0, 1.19, 1.19]\n",
      "{u'Z': 1.19, u'label': u'Or', u'Y': 0.0, u'X': 348.12, u'tick': u'2046327', u'type': u'BINARY'}\n"
     ]
    },
    {
     "data": {
      "text/html": [
       "<script>\n",
       "data = [0, 0, 0, 0, 0, 0, 0, 1.19, 1.19, 1.19];\n",
       "update();\n",
       "console.log(\"updating\");\n",
       "</script>"
      ],
      "text/plain": [
       "<IPython.core.display.HTML object>"
      ]
     },
     "metadata": {},
     "output_type": "display_data"
    },
    {
     "name": "stdout",
     "output_type": "stream",
     "text": [
      "[0, 0, 0, 1.19, 1.19, 1.19]\n",
      "{u'Z': 1.19, u'label': u'Or', u'Y': 0.0, u'X': 348.12, u'tick': u'2046530', u'type': u'BINARY'}\n"
     ]
    },
    {
     "data": {
      "text/html": [
       "<script>\n",
       "data = [0, 0, 0, 0, 0, 0, 1.19, 1.19, 1.19, 1.19];\n",
       "update();\n",
       "console.log(\"updating\");\n",
       "</script>"
      ],
      "text/plain": [
       "<IPython.core.display.HTML object>"
      ]
     },
     "metadata": {},
     "output_type": "display_data"
    },
    {
     "name": "stdout",
     "output_type": "stream",
     "text": [
      "[0, 0, 1.19, 1.19, 1.19, 1.19]\n",
      "{u'Z': 1.19, u'label': u'Or', u'Y': 0.0, u'X': 348.12, u'tick': u'2046735', u'type': u'BINARY'}\n"
     ]
    },
    {
     "data": {
      "text/html": [
       "<script>\n",
       "data = [0, 0, 0, 0, 0, 1.19, 1.19, 1.19, 1.19, 1.19];\n",
       "update();\n",
       "console.log(\"updating\");\n",
       "</script>"
      ],
      "text/plain": [
       "<IPython.core.display.HTML object>"
      ]
     },
     "metadata": {},
     "output_type": "display_data"
    },
    {
     "name": "stdout",
     "output_type": "stream",
     "text": [
      "[0, 1.19, 1.19, 1.19, 1.19, 1.19]\n",
      "{u'Z': 1.19, u'label': u'Or', u'Y': 0.0, u'X': 348.12, u'tick': u'2046940', u'type': u'BINARY'}\n"
     ]
    },
    {
     "data": {
      "text/html": [
       "<script>\n",
       "data = [0, 0, 0, 0, 1.19, 1.19, 1.19, 1.19, 1.19, 1.19];\n",
       "update();\n",
       "console.log(\"updating\");\n",
       "</script>"
      ],
      "text/plain": [
       "<IPython.core.display.HTML object>"
      ]
     },
     "metadata": {},
     "output_type": "display_data"
    },
    {
     "name": "stdout",
     "output_type": "stream",
     "text": [
      "[1.19, 1.19, 1.19, 1.19, 1.19, 1.19]\n",
      "{u'Z': 1.19, u'label': u'Or', u'Y': 0.0, u'X': 348.12, u'tick': u'2047143', u'type': u'BINARY'}\n"
     ]
    },
    {
     "data": {
      "text/html": [
       "<script>\n",
       "data = [0, 0, 0, 1.19, 1.19, 1.19, 1.19, 1.19, 1.19, 1.19];\n",
       "update();\n",
       "console.log(\"updating\");\n",
       "</script>"
      ],
      "text/plain": [
       "<IPython.core.display.HTML object>"
      ]
     },
     "metadata": {},
     "output_type": "display_data"
    },
    {
     "name": "stdout",
     "output_type": "stream",
     "text": [
      "[1.19, 1.19, 1.19, 1.19, 1.19, 1.19]\n",
      "{u'Z': 1.19, u'label': u'Or', u'Y': 0.0, u'X': 348.12, u'tick': u'2047348', u'type': u'BINARY'}\n"
     ]
    },
    {
     "data": {
      "text/html": [
       "<script>\n",
       "data = [0, 0, 1.19, 1.19, 1.19, 1.19, 1.19, 1.19, 1.19, 1.19];\n",
       "update();\n",
       "console.log(\"updating\");\n",
       "</script>"
      ],
      "text/plain": [
       "<IPython.core.display.HTML object>"
      ]
     },
     "metadata": {},
     "output_type": "display_data"
    },
    {
     "name": "stdout",
     "output_type": "stream",
     "text": [
      "[1.19, 1.19, 1.19, 1.19, 1.19, 1.19]\n",
      "{u'Z': 1.19, u'label': u'Or', u'Y': 0.0, u'X': 348.12, u'tick': u'2047552', u'type': u'BINARY'}\n"
     ]
    },
    {
     "data": {
      "text/html": [
       "<script>\n",
       "data = [0, 1.19, 1.19, 1.19, 1.19, 1.19, 1.19, 1.19, 1.19, 1.19];\n",
       "update();\n",
       "console.log(\"updating\");\n",
       "</script>"
      ],
      "text/plain": [
       "<IPython.core.display.HTML object>"
      ]
     },
     "metadata": {},
     "output_type": "display_data"
    },
    {
     "name": "stdout",
     "output_type": "stream",
     "text": [
      "[1.19, 1.19, 1.19, 1.19, 1.19, 1.19]\n",
      "{u'Z': 1.19, u'label': u'Or', u'Y': 0.0, u'X': 348.12, u'tick': u'2047756', u'type': u'BINARY'}\n"
     ]
    },
    {
     "data": {
      "text/html": [
       "<script>\n",
       "data = [1.19, 1.19, 1.19, 1.19, 1.19, 1.19, 1.19, 1.19, 1.19, 1.19];\n",
       "update();\n",
       "console.log(\"updating\");\n",
       "</script>"
      ],
      "text/plain": [
       "<IPython.core.display.HTML object>"
      ]
     },
     "metadata": {},
     "output_type": "display_data"
    },
    {
     "name": "stdout",
     "output_type": "stream",
     "text": [
      "[1.19, 1.19, 1.19, 1.19, 1.19, 1.19]\n",
      "{u'Z': 1.19, u'label': u'Or', u'Y': 0.0, u'X': 348.12, u'tick': u'2047962', u'type': u'BINARY'}\n"
     ]
    },
    {
     "data": {
      "text/html": [
       "<script>\n",
       "data = [1.19, 1.19, 1.19, 1.19, 1.19, 1.19, 1.19, 1.19, 1.19, 1.19];\n",
       "update();\n",
       "console.log(\"updating\");\n",
       "</script>"
      ],
      "text/plain": [
       "<IPython.core.display.HTML object>"
      ]
     },
     "metadata": {},
     "output_type": "display_data"
    },
    {
     "name": "stdout",
     "output_type": "stream",
     "text": [
      "[1.19, 1.19, 1.19, 1.19, 1.19, 1.19]\n",
      "{u'Z': 1.19, u'label': u'Or', u'Y': 0.0, u'X': 348.12, u'tick': u'2048165', u'type': u'BINARY'}\n"
     ]
    },
    {
     "data": {
      "text/html": [
       "<script>\n",
       "data = [1.19, 1.19, 1.19, 1.19, 1.19, 1.19, 1.19, 1.19, 1.19, 1.19];\n",
       "update();\n",
       "console.log(\"updating\");\n",
       "</script>"
      ],
      "text/plain": [
       "<IPython.core.display.HTML object>"
      ]
     },
     "metadata": {},
     "output_type": "display_data"
    },
    {
     "name": "stdout",
     "output_type": "stream",
     "text": [
      "[1.19, 1.19, 1.19, 1.19, 1.19, 1.19]\n",
      "{u'Z': 1.19, u'label': u'Or', u'Y': 0.0, u'X': 348.12, u'tick': u'2048371', u'type': u'BINARY'}\n"
     ]
    },
    {
     "data": {
      "text/html": [
       "<script>\n",
       "data = [1.19, 1.19, 1.19, 1.19, 1.19, 1.19, 1.19, 1.19, 1.19, 1.19];\n",
       "update();\n",
       "console.log(\"updating\");\n",
       "</script>"
      ],
      "text/plain": [
       "<IPython.core.display.HTML object>"
      ]
     },
     "metadata": {},
     "output_type": "display_data"
    },
    {
     "name": "stdout",
     "output_type": "stream",
     "text": [
      "[1.19, 1.19, 1.19, 1.19, 1.19, 1.19]\n",
      "{u'Z': 0.69, u'label': u'Or', u'Y': 0.0, u'X': 348.19, u'tick': u'2048574', u'type': u'BINARY'}\n"
     ]
    },
    {
     "data": {
      "text/html": [
       "<script>\n",
       "data = [1.19, 1.19, 1.19, 1.19, 1.19, 1.19, 1.19, 1.19, 1.19, 0.69];\n",
       "update();\n",
       "console.log(\"updating\");\n",
       "</script>"
      ],
      "text/plain": [
       "<IPython.core.display.HTML object>"
      ]
     },
     "metadata": {},
     "output_type": "display_data"
    },
    {
     "name": "stdout",
     "output_type": "stream",
     "text": [
      "[1.19, 1.19, 1.19, 1.19, 1.19, 0.69]\n",
      "{u'Z': -3.31, u'label': u'Or', u'Y': 0.25, u'X': 348.69, u'tick': u'2048779', u'type': u'BINARY'}\n"
     ]
    },
    {
     "data": {
      "text/html": [
       "<script>\n",
       "data = [1.19, 1.19, 1.19, 1.19, 1.19, 1.19, 1.19, 1.19, 0.69, -3.31];\n",
       "update();\n",
       "console.log(\"updating\");\n",
       "</script>"
      ],
      "text/plain": [
       "<IPython.core.display.HTML object>"
      ]
     },
     "metadata": {},
     "output_type": "display_data"
    },
    {
     "name": "stdout",
     "output_type": "stream",
     "text": [
      "[1.19, 1.19, 1.19, 1.19, 0.69, -3.31]\n",
      "{u'Z': -13.19, u'label': u'Or', u'Y': 0.81, u'X': 348.94, u'tick': u'2048984', u'type': u'BINARY'}\n"
     ]
    },
    {
     "data": {
      "text/html": [
       "<script>\n",
       "data = [1.19, 1.19, 1.19, 1.19, 1.19, 1.19, 1.19, 0.69, -3.31, -13.19];\n",
       "update();\n",
       "console.log(\"updating\");\n",
       "</script>"
      ],
      "text/plain": [
       "<IPython.core.display.HTML object>"
      ]
     },
     "metadata": {},
     "output_type": "display_data"
    },
    {
     "name": "stdout",
     "output_type": "stream",
     "text": [
      "[1.19, 1.19, 1.19, 0.69, -3.31, -13.19]\n",
      "{u'Z': -20.94, u'label': u'Or', u'Y': 1.0, u'X': 348.94, u'tick': u'2049187', u'type': u'BINARY'}\n"
     ]
    },
    {
     "data": {
      "text/html": [
       "<script>\n",
       "data = [1.19, 1.19, 1.19, 1.19, 1.19, 1.19, 0.69, -3.31, -13.19, -20.94];\n",
       "update();\n",
       "console.log(\"updating\");\n",
       "</script>"
      ],
      "text/plain": [
       "<IPython.core.display.HTML object>"
      ]
     },
     "metadata": {},
     "output_type": "display_data"
    },
    {
     "name": "stdout",
     "output_type": "stream",
     "text": [
      "[1.19, 1.19, 0.69, -3.31, -13.19, -20.94]\n",
      "{u'Z': -27.94, u'label': u'Or', u'Y': 0.69, u'X': 349.06, u'tick': u'2049393', u'type': u'BINARY'}\n"
     ]
    },
    {
     "data": {
      "text/html": [
       "<script>\n",
       "data = [1.19, 1.19, 1.19, 1.19, 1.19, 0.69, -3.31, -13.19, -20.94, -27.94];\n",
       "update();\n",
       "console.log(\"updating\");\n",
       "</script>"
      ],
      "text/plain": [
       "<IPython.core.display.HTML object>"
      ]
     },
     "metadata": {},
     "output_type": "display_data"
    },
    {
     "name": "stdout",
     "output_type": "stream",
     "text": [
      "[1.19, 0.69, -3.31, -13.19, -20.94, -27.94]\n",
      "{u'Z': -35.81, u'label': u'Or', u'Y': 0.31, u'X': 349.31, u'tick': u'2049597', u'type': u'BINARY'}\n"
     ]
    },
    {
     "data": {
      "text/html": [
       "<script>\n",
       "data = [1.19, 1.19, 1.19, 1.19, 0.69, -3.31, -13.19, -20.94, -27.94, -35.81];\n",
       "update();\n",
       "console.log(\"updating\");\n",
       "</script>"
      ],
      "text/plain": [
       "<IPython.core.display.HTML object>"
      ]
     },
     "metadata": {},
     "output_type": "display_data"
    },
    {
     "name": "stdout",
     "output_type": "stream",
     "text": [
      "[0.69, -3.31, -13.19, -20.94, -27.94, -35.81]\n",
      "{u'Z': -38.56, u'label': u'Or', u'Y': 0.19, u'X': 349.38, u'tick': u'2049800', u'type': u'BINARY'}\n"
     ]
    },
    {
     "data": {
      "text/html": [
       "<script>\n",
       "data = [1.19, 1.19, 1.19, 0.69, -3.31, -13.19, -20.94, -27.94, -35.81, -38.56];\n",
       "update();\n",
       "console.log(\"updating\");\n",
       "</script>"
      ],
      "text/plain": [
       "<IPython.core.display.HTML object>"
      ]
     },
     "metadata": {},
     "output_type": "display_data"
    },
    {
     "name": "stdout",
     "output_type": "stream",
     "text": [
      "[-3.31, -13.19, -20.94, -27.94, -35.81, -38.56]\n",
      "{u'Z': -39.88, u'label': u'Or', u'Y': 0.19, u'X': 349.38, u'tick': u'2050006', u'type': u'BINARY'}\n"
     ]
    },
    {
     "data": {
      "text/html": [
       "<script>\n",
       "data = [1.19, 1.19, 0.69, -3.31, -13.19, -20.94, -27.94, -35.81, -38.56, -39.88];\n",
       "update();\n",
       "console.log(\"updating\");\n",
       "</script>"
      ],
      "text/plain": [
       "<IPython.core.display.HTML object>"
      ]
     },
     "metadata": {},
     "output_type": "display_data"
    },
    {
     "name": "stdout",
     "output_type": "stream",
     "text": [
      "[-13.19, -20.94, -27.94, -35.81, -38.56, -39.88]\n",
      "{u'Z': -42.94, u'label': u'Or', u'Y': 0.0, u'X': 349.38, u'tick': u'2050209', u'type': u'BINARY'}\n"
     ]
    },
    {
     "data": {
      "text/html": [
       "<script>\n",
       "data = [1.19, 0.69, -3.31, -13.19, -20.94, -27.94, -35.81, -38.56, -39.88, -42.94];\n",
       "update();\n",
       "console.log(\"updating\");\n",
       "</script>"
      ],
      "text/plain": [
       "<IPython.core.display.HTML object>"
      ]
     },
     "metadata": {},
     "output_type": "display_data"
    },
    {
     "name": "stdout",
     "output_type": "stream",
     "text": [
      "[-20.94, -27.94, -35.81, -38.56, -39.88, -42.94]\n",
      "{u'Z': -44.19, u'label': u'Or', u'Y': 0.0, u'X': 349.44, u'tick': u'2050413', u'type': u'BINARY'}\n"
     ]
    },
    {
     "data": {
      "text/html": [
       "<script>\n",
       "data = [0.69, -3.31, -13.19, -20.94, -27.94, -35.81, -38.56, -39.88, -42.94, -44.19];\n",
       "update();\n",
       "console.log(\"updating\");\n",
       "</script>"
      ],
      "text/plain": [
       "<IPython.core.display.HTML object>"
      ]
     },
     "metadata": {},
     "output_type": "display_data"
    },
    {
     "name": "stdout",
     "output_type": "stream",
     "text": [
      "[-27.94, -35.81, -38.56, -39.88, -42.94, -44.19]\n",
      "{u'Z': -45.75, u'label': u'Or', u'Y': 0.06, u'X': 349.38, u'tick': u'2050617', u'type': u'BINARY'}\n"
     ]
    },
    {
     "data": {
      "text/html": [
       "<script>\n",
       "data = [-3.31, -13.19, -20.94, -27.94, -35.81, -38.56, -39.88, -42.94, -44.19, -45.75];\n",
       "update();\n",
       "console.log(\"updating\");\n",
       "</script>"
      ],
      "text/plain": [
       "<IPython.core.display.HTML object>"
      ]
     },
     "metadata": {},
     "output_type": "display_data"
    },
    {
     "name": "stdout",
     "output_type": "stream",
     "text": [
      "[-35.81, -38.56, -39.88, -42.94, -44.19, -45.75]\n",
      "{u'Z': -42.88, u'label': u'Or', u'Y': 0.06, u'X': 349.44, u'tick': u'2050821', u'type': u'BINARY'}\n"
     ]
    },
    {
     "data": {
      "text/html": [
       "<script>\n",
       "data = [-13.19, -20.94, -27.94, -35.81, -38.56, -39.88, -42.94, -44.19, -45.75, -42.88];\n",
       "update();\n",
       "console.log(\"updating\");\n",
       "</script>"
      ],
      "text/plain": [
       "<IPython.core.display.HTML object>"
      ]
     },
     "metadata": {},
     "output_type": "display_data"
    },
    {
     "name": "stdout",
     "output_type": "stream",
     "text": [
      "[-38.56, -39.88, -42.94, -44.19, -45.75, -42.88]\n",
      "{u'Z': -30.56, u'label': u'Or', u'Y': 0.81, u'X': 349.31, u'tick': u'2051025', u'type': u'BINARY'}\n"
     ]
    },
    {
     "data": {
      "text/html": [
       "<script>\n",
       "data = [-20.94, -27.94, -35.81, -38.56, -39.88, -42.94, -44.19, -45.75, -42.88, -30.56];\n",
       "update();\n",
       "console.log(\"updating\");\n",
       "</script>"
      ],
      "text/plain": [
       "<IPython.core.display.HTML object>"
      ]
     },
     "metadata": {},
     "output_type": "display_data"
    },
    {
     "name": "stdout",
     "output_type": "stream",
     "text": [
      "[-39.88, -42.94, -44.19, -45.75, -42.88, -30.56]\n",
      "{u'Z': -17.06, u'label': u'Or', u'Y': 1.25, u'X': 348.31, u'tick': u'2051229', u'type': u'BINARY'}\n"
     ]
    },
    {
     "data": {
      "text/html": [
       "<script>\n",
       "data = [-27.94, -35.81, -38.56, -39.88, -42.94, -44.19, -45.75, -42.88, -30.56, -17.06];\n",
       "update();\n",
       "console.log(\"updating\");\n",
       "</script>"
      ],
      "text/plain": [
       "<IPython.core.display.HTML object>"
      ]
     },
     "metadata": {},
     "output_type": "display_data"
    },
    {
     "name": "stdout",
     "output_type": "stream",
     "text": [
      "[-42.94, -44.19, -45.75, -42.88, -30.56, -17.06]\n",
      "{u'Z': -9.56, u'label': u'Or', u'Y': 0.81, u'X': 348.25, u'tick': u'2051433', u'type': u'BINARY'}\n"
     ]
    },
    {
     "data": {
      "text/html": [
       "<script>\n",
       "data = [-35.81, -38.56, -39.88, -42.94, -44.19, -45.75, -42.88, -30.56, -17.06, -9.56];\n",
       "update();\n",
       "console.log(\"updating\");\n",
       "</script>"
      ],
      "text/plain": [
       "<IPython.core.display.HTML object>"
      ]
     },
     "metadata": {},
     "output_type": "display_data"
    },
    {
     "name": "stdout",
     "output_type": "stream",
     "text": [
      "[-44.19, -45.75, -42.88, -30.56, -17.06, -9.56]\n",
      "{u'Z': -3.75, u'label': u'Or', u'Y': 0.5, u'X': 348.69, u'tick': u'2051638', u'type': u'BINARY'}\n"
     ]
    },
    {
     "data": {
      "text/html": [
       "<script>\n",
       "data = [-38.56, -39.88, -42.94, -44.19, -45.75, -42.88, -30.56, -17.06, -9.56, -3.75];\n",
       "update();\n",
       "console.log(\"updating\");\n",
       "</script>"
      ],
      "text/plain": [
       "<IPython.core.display.HTML object>"
      ]
     },
     "metadata": {},
     "output_type": "display_data"
    },
    {
     "name": "stdout",
     "output_type": "stream",
     "text": [
      "[-45.75, -42.88, -30.56, -17.06, -9.56, -3.75]\n",
      "{u'Z': 2.0, u'label': u'Or', u'Y': 0.19, u'X': 349.38, u'tick': u'2051843', u'type': u'BINARY'}\n"
     ]
    },
    {
     "data": {
      "text/html": [
       "<script>\n",
       "data = [-39.88, -42.94, -44.19, -45.75, -42.88, -30.56, -17.06, -9.56, -3.75, 2.0];\n",
       "update();\n",
       "console.log(\"updating\");\n",
       "</script>"
      ],
      "text/plain": [
       "<IPython.core.display.HTML object>"
      ]
     },
     "metadata": {},
     "output_type": "display_data"
    },
    {
     "name": "stdout",
     "output_type": "stream",
     "text": [
      "[-42.88, -30.56, -17.06, -9.56, -3.75, 2.0]\n",
      "{u'Z': 7.56, u'label': u'Or', u'Y': 0.19, u'X': 349.44, u'tick': u'2052046', u'type': u'BINARY'}\n"
     ]
    },
    {
     "data": {
      "text/html": [
       "<script>\n",
       "data = [-42.94, -44.19, -45.75, -42.88, -30.56, -17.06, -9.56, -3.75, 2.0, 7.56];\n",
       "update();\n",
       "console.log(\"updating\");\n",
       "</script>"
      ],
      "text/plain": [
       "<IPython.core.display.HTML object>"
      ]
     },
     "metadata": {},
     "output_type": "display_data"
    },
    {
     "name": "stdout",
     "output_type": "stream",
     "text": [
      "[-30.56, -17.06, -9.56, -3.75, 2.0, 7.56]\n",
      "{u'Z': 19.44, u'label': u'Or', u'Y': 0.12, u'X': 349.56, u'tick': u'2052252', u'type': u'BINARY'}\n"
     ]
    },
    {
     "data": {
      "text/html": [
       "<script>\n",
       "data = [-44.19, -45.75, -42.88, -30.56, -17.06, -9.56, -3.75, 2.0, 7.56, 19.44];\n",
       "update();\n",
       "console.log(\"updating\");\n",
       "</script>"
      ],
      "text/plain": [
       "<IPython.core.display.HTML object>"
      ]
     },
     "metadata": {},
     "output_type": "display_data"
    },
    {
     "name": "stdout",
     "output_type": "stream",
     "text": [
      "[-17.06, -9.56, -3.75, 2.0, 7.56, 19.44]\n",
      "{u'Z': 32.81, u'label': u'Or', u'Y': 0.0, u'X': 350.38, u'tick': u'2052455', u'type': u'BINARY'}\n"
     ]
    },
    {
     "data": {
      "text/html": [
       "<script>\n",
       "data = [-45.75, -42.88, -30.56, -17.06, -9.56, -3.75, 2.0, 7.56, 19.44, 32.81];\n",
       "update();\n",
       "console.log(\"updating\");\n",
       "</script>"
      ],
      "text/plain": [
       "<IPython.core.display.HTML object>"
      ]
     },
     "metadata": {},
     "output_type": "display_data"
    },
    {
     "name": "stdout",
     "output_type": "stream",
     "text": [
      "[-9.56, -3.75, 2.0, 7.56, 19.44, 32.81]\n",
      "{u'Z': 43.81, u'label': u'Or', u'Y': 0.31, u'X': 352.06, u'tick': u'2052660', u'type': u'BINARY'}\n"
     ]
    },
    {
     "data": {
      "text/html": [
       "<script>\n",
       "data = [-42.88, -30.56, -17.06, -9.56, -3.75, 2.0, 7.56, 19.44, 32.81, 43.81];\n",
       "update();\n",
       "console.log(\"updating\");\n",
       "</script>"
      ],
      "text/plain": [
       "<IPython.core.display.HTML object>"
      ]
     },
     "metadata": {},
     "output_type": "display_data"
    },
    {
     "name": "stdout",
     "output_type": "stream",
     "text": [
      "[-3.75, 2.0, 7.56, 19.44, 32.81, 43.81]\n",
      "{u'Z': 57.19, u'label': u'Or', u'Y': 0.88, u'X': 353.38, u'tick': u'2052865', u'type': u'BINARY'}\n"
     ]
    },
    {
     "data": {
      "text/html": [
       "<script>\n",
       "data = [-30.56, -17.06, -9.56, -3.75, 2.0, 7.56, 19.44, 32.81, 43.81, 57.19];\n",
       "update();\n",
       "console.log(\"updating\");\n",
       "</script>"
      ],
      "text/plain": [
       "<IPython.core.display.HTML object>"
      ]
     },
     "metadata": {},
     "output_type": "display_data"
    },
    {
     "name": "stdout",
     "output_type": "stream",
     "text": [
      "[2.0, 7.56, 19.44, 32.81, 43.81, 57.19]\n",
      "{u'Z': 69.88, u'label': u'Or', u'Y': 1.06, u'X': 354.31, u'tick': u'2053069', u'type': u'BINARY'}\n"
     ]
    },
    {
     "data": {
      "text/html": [
       "<script>\n",
       "data = [-17.06, -9.56, -3.75, 2.0, 7.56, 19.44, 32.81, 43.81, 57.19, 69.88];\n",
       "update();\n",
       "console.log(\"updating\");\n",
       "</script>"
      ],
      "text/plain": [
       "<IPython.core.display.HTML object>"
      ]
     },
     "metadata": {},
     "output_type": "display_data"
    },
    {
     "name": "stdout",
     "output_type": "stream",
     "text": [
      "[7.56, 19.44, 32.81, 43.81, 57.19, 69.88]\n",
      "{u'Z': 79.25, u'label': u'Or', u'Y': 1.25, u'X': 354.69, u'tick': u'2053273', u'type': u'BINARY'}\n"
     ]
    },
    {
     "data": {
      "text/html": [
       "<script>\n",
       "data = [-9.56, -3.75, 2.0, 7.56, 19.44, 32.81, 43.81, 57.19, 69.88, 79.25];\n",
       "update();\n",
       "console.log(\"updating\");\n",
       "</script>"
      ],
      "text/plain": [
       "<IPython.core.display.HTML object>"
      ]
     },
     "metadata": {},
     "output_type": "display_data"
    },
    {
     "name": "stdout",
     "output_type": "stream",
     "text": [
      "[19.44, 32.81, 43.81, 57.19, 69.88, 79.25]\n",
      "{u'Z': 88.88, u'label': u'Or', u'Y': 1.5, u'X': 351.62, u'tick': u'2053477', u'type': u'BINARY'}\n"
     ]
    },
    {
     "data": {
      "text/html": [
       "<script>\n",
       "data = [-3.75, 2.0, 7.56, 19.44, 32.81, 43.81, 57.19, 69.88, 79.25, 88.88];\n",
       "update();\n",
       "console.log(\"updating\");\n",
       "</script>"
      ],
      "text/plain": [
       "<IPython.core.display.HTML object>"
      ]
     },
     "metadata": {},
     "output_type": "display_data"
    },
    {
     "name": "stdout",
     "output_type": "stream",
     "text": [
      "[32.81, 43.81, 57.19, 69.88, 79.25, 88.88]\n",
      "{u'Z': 91.06, u'label': u'Or', u'Y': 1.5, u'X': 351.0, u'tick': u'2053681', u'type': u'BINARY'}\n"
     ]
    },
    {
     "data": {
      "text/html": [
       "<script>\n",
       "data = [2.0, 7.56, 19.44, 32.81, 43.81, 57.19, 69.88, 79.25, 88.88, 91.06];\n",
       "update();\n",
       "console.log(\"updating\");\n",
       "</script>"
      ],
      "text/plain": [
       "<IPython.core.display.HTML object>"
      ]
     },
     "metadata": {},
     "output_type": "display_data"
    },
    {
     "name": "stdout",
     "output_type": "stream",
     "text": [
      "[43.81, 57.19, 69.88, 79.25, 88.88, 91.06]\n",
      "{u'Z': 91.12, u'label': u'Or', u'Y': 1.44, u'X': 350.69, u'tick': u'2053885', u'type': u'BINARY'}\n"
     ]
    },
    {
     "data": {
      "text/html": [
       "<script>\n",
       "data = [7.56, 19.44, 32.81, 43.81, 57.19, 69.88, 79.25, 88.88, 91.06, 91.12];\n",
       "update();\n",
       "console.log(\"updating\");\n",
       "</script>"
      ],
      "text/plain": [
       "<IPython.core.display.HTML object>"
      ]
     },
     "metadata": {},
     "output_type": "display_data"
    },
    {
     "name": "stdout",
     "output_type": "stream",
     "text": [
      "[57.19, 69.88, 79.25, 88.88, 91.06, 91.12]\n",
      "{u'Z': 89.0, u'label': u'Or', u'Y': 1.38, u'X': 350.56, u'tick': u'2054089', u'type': u'BINARY'}\n"
     ]
    },
    {
     "data": {
      "text/html": [
       "<script>\n",
       "data = [19.44, 32.81, 43.81, 57.19, 69.88, 79.25, 88.88, 91.06, 91.12, 89.0];\n",
       "update();\n",
       "console.log(\"updating\");\n",
       "</script>"
      ],
      "text/plain": [
       "<IPython.core.display.HTML object>"
      ]
     },
     "metadata": {},
     "output_type": "display_data"
    },
    {
     "name": "stdout",
     "output_type": "stream",
     "text": [
      "[69.88, 79.25, 88.88, 91.06, 91.12, 89.0]\n",
      "{u'Z': 84.75, u'label': u'Or', u'Y': 1.19, u'X': 350.31, u'tick': u'2054293', u'type': u'BINARY'}\n"
     ]
    },
    {
     "data": {
      "text/html": [
       "<script>\n",
       "data = [32.81, 43.81, 57.19, 69.88, 79.25, 88.88, 91.06, 91.12, 89.0, 84.75];\n",
       "update();\n",
       "console.log(\"updating\");\n",
       "</script>"
      ],
      "text/plain": [
       "<IPython.core.display.HTML object>"
      ]
     },
     "metadata": {},
     "output_type": "display_data"
    },
    {
     "name": "stdout",
     "output_type": "stream",
     "text": [
      "[79.25, 88.88, 91.06, 91.12, 89.0, 84.75]\n",
      "{u'Z': 76.69, u'label': u'Or', u'Y': 1.0, u'X': 349.19, u'tick': u'2054499', u'type': u'BINARY'}\n"
     ]
    },
    {
     "data": {
      "text/html": [
       "<script>\n",
       "data = [43.81, 57.19, 69.88, 79.25, 88.88, 91.06, 91.12, 89.0, 84.75, 76.69];\n",
       "update();\n",
       "console.log(\"updating\");\n",
       "</script>"
      ],
      "text/plain": [
       "<IPython.core.display.HTML object>"
      ]
     },
     "metadata": {},
     "output_type": "display_data"
    },
    {
     "name": "stdout",
     "output_type": "stream",
     "text": [
      "[88.88, 91.06, 91.12, 89.0, 84.75, 76.69]\n",
      "{u'Z': 66.81, u'label': u'Or', u'Y': 0.81, u'X': 348.5, u'tick': u'2054702', u'type': u'BINARY'}\n"
     ]
    },
    {
     "data": {
      "text/html": [
       "<script>\n",
       "data = [57.19, 69.88, 79.25, 88.88, 91.06, 91.12, 89.0, 84.75, 76.69, 66.81];\n",
       "update();\n",
       "console.log(\"updating\");\n",
       "</script>"
      ],
      "text/plain": [
       "<IPython.core.display.HTML object>"
      ]
     },
     "metadata": {},
     "output_type": "display_data"
    },
    {
     "name": "stdout",
     "output_type": "stream",
     "text": [
      "[91.06, 91.12, 89.0, 84.75, 76.69, 66.81]\n",
      "{u'Z': 56.94, u'label': u'Or', u'Y': 0.69, u'X': 348.25, u'tick': u'2054907', u'type': u'BINARY'}\n"
     ]
    },
    {
     "data": {
      "text/html": [
       "<script>\n",
       "data = [69.88, 79.25, 88.88, 91.06, 91.12, 89.0, 84.75, 76.69, 66.81, 56.94];\n",
       "update();\n",
       "console.log(\"updating\");\n",
       "</script>"
      ],
      "text/plain": [
       "<IPython.core.display.HTML object>"
      ]
     },
     "metadata": {},
     "output_type": "display_data"
    },
    {
     "name": "stdout",
     "output_type": "stream",
     "text": [
      "[91.12, 89.0, 84.75, 76.69, 66.81, 56.94]\n",
      "{u'Z': 47.31, u'label': u'Or', u'Y': 0.38, u'X': 348.19, u'tick': u'2055111', u'type': u'BINARY'}\n"
     ]
    },
    {
     "data": {
      "text/html": [
       "<script>\n",
       "data = [79.25, 88.88, 91.06, 91.12, 89.0, 84.75, 76.69, 66.81, 56.94, 47.31];\n",
       "update();\n",
       "console.log(\"updating\");\n",
       "</script>"
      ],
      "text/plain": [
       "<IPython.core.display.HTML object>"
      ]
     },
     "metadata": {},
     "output_type": "display_data"
    },
    {
     "name": "stdout",
     "output_type": "stream",
     "text": [
      "[89.0, 84.75, 76.69, 66.81, 56.94, 47.31]\n",
      "{u'Z': 38.5, u'label': u'Or', u'Y': 0.06, u'X': 347.88, u'tick': u'2055315', u'type': u'BINARY'}\n"
     ]
    },
    {
     "data": {
      "text/html": [
       "<script>\n",
       "data = [88.88, 91.06, 91.12, 89.0, 84.75, 76.69, 66.81, 56.94, 47.31, 38.5];\n",
       "update();\n",
       "console.log(\"updating\");\n",
       "</script>"
      ],
      "text/plain": [
       "<IPython.core.display.HTML object>"
      ]
     },
     "metadata": {},
     "output_type": "display_data"
    },
    {
     "name": "stdout",
     "output_type": "stream",
     "text": [
      "[84.75, 76.69, 66.81, 56.94, 47.31, 38.5]\n",
      "{u'Z': 30.38, u'label': u'Or', u'Y': -0.06, u'X': 347.56, u'tick': u'2055521', u'type': u'BINARY'}\n"
     ]
    },
    {
     "data": {
      "text/html": [
       "<script>\n",
       "data = [91.06, 91.12, 89.0, 84.75, 76.69, 66.81, 56.94, 47.31, 38.5, 30.38];\n",
       "update();\n",
       "console.log(\"updating\");\n",
       "</script>"
      ],
      "text/plain": [
       "<IPython.core.display.HTML object>"
      ]
     },
     "metadata": {},
     "output_type": "display_data"
    },
    {
     "name": "stdout",
     "output_type": "stream",
     "text": [
      "[76.69, 66.81, 56.94, 47.31, 38.5, 30.38]\n",
      "{u'Z': 22.88, u'label': u'Or', u'Y': -0.06, u'X': 347.62, u'tick': u'2055724', u'type': u'BINARY'}\n"
     ]
    },
    {
     "data": {
      "text/html": [
       "<script>\n",
       "data = [91.12, 89.0, 84.75, 76.69, 66.81, 56.94, 47.31, 38.5, 30.38, 22.88];\n",
       "update();\n",
       "console.log(\"updating\");\n",
       "</script>"
      ],
      "text/plain": [
       "<IPython.core.display.HTML object>"
      ]
     },
     "metadata": {},
     "output_type": "display_data"
    },
    {
     "name": "stdout",
     "output_type": "stream",
     "text": [
      "[66.81, 56.94, 47.31, 38.5, 30.38, 22.88]\n",
      "{u'Z': 10.81, u'label': u'Or', u'Y': 0.0, u'X': 349.5, u'tick': u'2055928', u'type': u'BINARY'}\n"
     ]
    },
    {
     "data": {
      "text/html": [
       "<script>\n",
       "data = [89.0, 84.75, 76.69, 66.81, 56.94, 47.31, 38.5, 30.38, 22.88, 10.81];\n",
       "update();\n",
       "console.log(\"updating\");\n",
       "</script>"
      ],
      "text/plain": [
       "<IPython.core.display.HTML object>"
      ]
     },
     "metadata": {},
     "output_type": "display_data"
    },
    {
     "name": "stdout",
     "output_type": "stream",
     "text": [
      "[56.94, 47.31, 38.5, 30.38, 22.88, 10.81]\n",
      "{u'Z': 4.06, u'label': u'Or', u'Y': 0.12, u'X': 349.88, u'tick': u'2056132', u'type': u'BINARY'}\n"
     ]
    },
    {
     "data": {
      "text/html": [
       "<script>\n",
       "data = [84.75, 76.69, 66.81, 56.94, 47.31, 38.5, 30.38, 22.88, 10.81, 4.06];\n",
       "update();\n",
       "console.log(\"updating\");\n",
       "</script>"
      ],
      "text/plain": [
       "<IPython.core.display.HTML object>"
      ]
     },
     "metadata": {},
     "output_type": "display_data"
    },
    {
     "name": "stdout",
     "output_type": "stream",
     "text": [
      "[47.31, 38.5, 30.38, 22.88, 10.81, 4.06]\n",
      "{u'Z': 3.56, u'label': u'Or', u'Y': 0.12, u'X': 350.56, u'tick': u'2056336', u'type': u'BINARY'}\n"
     ]
    },
    {
     "data": {
      "text/html": [
       "<script>\n",
       "data = [76.69, 66.81, 56.94, 47.31, 38.5, 30.38, 22.88, 10.81, 4.06, 3.56];\n",
       "update();\n",
       "console.log(\"updating\");\n",
       "</script>"
      ],
      "text/plain": [
       "<IPython.core.display.HTML object>"
      ]
     },
     "metadata": {},
     "output_type": "display_data"
    },
    {
     "name": "stdout",
     "output_type": "stream",
     "text": [
      "[38.5, 30.38, 22.88, 10.81, 4.06, 3.56]\n",
      "{u'Z': 2.12, u'label': u'Or', u'Y': 0.06, u'X': 349.31, u'tick': u'2056541', u'type': u'BINARY'}\n"
     ]
    },
    {
     "data": {
      "text/html": [
       "<script>\n",
       "data = [66.81, 56.94, 47.31, 38.5, 30.38, 22.88, 10.81, 4.06, 3.56, 2.12];\n",
       "update();\n",
       "console.log(\"updating\");\n",
       "</script>"
      ],
      "text/plain": [
       "<IPython.core.display.HTML object>"
      ]
     },
     "metadata": {},
     "output_type": "display_data"
    },
    {
     "name": "stdout",
     "output_type": "stream",
     "text": [
      "[30.38, 22.88, 10.81, 4.06, 3.56, 2.12]\n",
      "{u'Z': 2.06, u'label': u'Or', u'Y': 0.06, u'X': 349.31, u'tick': u'2056746', u'type': u'BINARY'}\n"
     ]
    },
    {
     "data": {
      "text/html": [
       "<script>\n",
       "data = [56.94, 47.31, 38.5, 30.38, 22.88, 10.81, 4.06, 3.56, 2.12, 2.06];\n",
       "update();\n",
       "console.log(\"updating\");\n",
       "</script>"
      ],
      "text/plain": [
       "<IPython.core.display.HTML object>"
      ]
     },
     "metadata": {},
     "output_type": "display_data"
    },
    {
     "name": "stdout",
     "output_type": "stream",
     "text": [
      "[22.88, 10.81, 4.06, 3.56, 2.12, 2.06]\n",
      "{u'Z': 1.94, u'label': u'Or', u'Y': 0.06, u'X': 349.31, u'tick': u'2056949', u'type': u'BINARY'}\n"
     ]
    },
    {
     "data": {
      "text/html": [
       "<script>\n",
       "data = [47.31, 38.5, 30.38, 22.88, 10.81, 4.06, 3.56, 2.12, 2.06, 1.94];\n",
       "update();\n",
       "console.log(\"updating\");\n",
       "</script>"
      ],
      "text/plain": [
       "<IPython.core.display.HTML object>"
      ]
     },
     "metadata": {},
     "output_type": "display_data"
    },
    {
     "name": "stdout",
     "output_type": "stream",
     "text": [
      "[10.81, 4.06, 3.56, 2.12, 2.06, 1.94]\n",
      "{u'Z': 1.88, u'label': u'Or', u'Y': 0.06, u'X': 349.31, u'tick': u'2057155', u'type': u'BINARY'}\n"
     ]
    },
    {
     "data": {
      "text/html": [
       "<script>\n",
       "data = [38.5, 30.38, 22.88, 10.81, 4.06, 3.56, 2.12, 2.06, 1.94, 1.88];\n",
       "update();\n",
       "console.log(\"updating\");\n",
       "</script>"
      ],
      "text/plain": [
       "<IPython.core.display.HTML object>"
      ]
     },
     "metadata": {},
     "output_type": "display_data"
    },
    {
     "name": "stdout",
     "output_type": "stream",
     "text": [
      "[4.06, 3.56, 2.12, 2.06, 1.94, 1.88]\n",
      "{u'Z': 1.81, u'label': u'Or', u'Y': 0.06, u'X': 349.31, u'tick': u'2057358', u'type': u'BINARY'}\n"
     ]
    },
    {
     "data": {
      "text/html": [
       "<script>\n",
       "data = [30.38, 22.88, 10.81, 4.06, 3.56, 2.12, 2.06, 1.94, 1.88, 1.81];\n",
       "update();\n",
       "console.log(\"updating\");\n",
       "</script>"
      ],
      "text/plain": [
       "<IPython.core.display.HTML object>"
      ]
     },
     "metadata": {},
     "output_type": "display_data"
    },
    {
     "name": "stdout",
     "output_type": "stream",
     "text": [
      "[3.56, 2.12, 2.06, 1.94, 1.88, 1.81]\n",
      "{u'Z': 1.75, u'label': u'Or', u'Y': 0.06, u'X': 349.31, u'tick': u'2057563', u'type': u'BINARY'}\n"
     ]
    },
    {
     "data": {
      "text/html": [
       "<script>\n",
       "data = [22.88, 10.81, 4.06, 3.56, 2.12, 2.06, 1.94, 1.88, 1.81, 1.75];\n",
       "update();\n",
       "console.log(\"updating\");\n",
       "</script>"
      ],
      "text/plain": [
       "<IPython.core.display.HTML object>"
      ]
     },
     "metadata": {},
     "output_type": "display_data"
    },
    {
     "name": "stdout",
     "output_type": "stream",
     "text": [
      "[2.12, 2.06, 1.94, 1.88, 1.81, 1.75]\n",
      "{u'Z': 1.75, u'label': u'Or', u'Y': 0.06, u'X': 349.31, u'tick': u'2057767', u'type': u'BINARY'}\n"
     ]
    },
    {
     "data": {
      "text/html": [
       "<script>\n",
       "data = [10.81, 4.06, 3.56, 2.12, 2.06, 1.94, 1.88, 1.81, 1.75, 1.75];\n",
       "update();\n",
       "console.log(\"updating\");\n",
       "</script>"
      ],
      "text/plain": [
       "<IPython.core.display.HTML object>"
      ]
     },
     "metadata": {},
     "output_type": "display_data"
    },
    {
     "name": "stdout",
     "output_type": "stream",
     "text": [
      "[2.06, 1.94, 1.88, 1.81, 1.75, 1.75]\n",
      "{u'Z': 1.69, u'label': u'Or', u'Y': 0.06, u'X': 349.31, u'tick': u'2057971', u'type': u'BINARY'}\n"
     ]
    },
    {
     "data": {
      "text/html": [
       "<script>\n",
       "data = [4.06, 3.56, 2.12, 2.06, 1.94, 1.88, 1.81, 1.75, 1.75, 1.69];\n",
       "update();\n",
       "console.log(\"updating\");\n",
       "</script>"
      ],
      "text/plain": [
       "<IPython.core.display.HTML object>"
      ]
     },
     "metadata": {},
     "output_type": "display_data"
    },
    {
     "name": "stdout",
     "output_type": "stream",
     "text": [
      "[1.94, 1.88, 1.81, 1.75, 1.75, 1.69]\n",
      "{u'Z': 1.62, u'label': u'Or', u'Y': 0.06, u'X': 349.31, u'tick': u'2058176', u'type': u'BINARY'}\n"
     ]
    },
    {
     "data": {
      "text/html": [
       "<script>\n",
       "data = [3.56, 2.12, 2.06, 1.94, 1.88, 1.81, 1.75, 1.75, 1.69, 1.62];\n",
       "update();\n",
       "console.log(\"updating\");\n",
       "</script>"
      ],
      "text/plain": [
       "<IPython.core.display.HTML object>"
      ]
     },
     "metadata": {},
     "output_type": "display_data"
    },
    {
     "name": "stdout",
     "output_type": "stream",
     "text": [
      "[1.88, 1.81, 1.75, 1.75, 1.69, 1.62]\n",
      "{u'Z': 1.62, u'label': u'Or', u'Y': 0.06, u'X': 349.31, u'tick': u'2058380', u'type': u'BINARY'}\n"
     ]
    },
    {
     "data": {
      "text/html": [
       "<script>\n",
       "data = [2.12, 2.06, 1.94, 1.88, 1.81, 1.75, 1.75, 1.69, 1.62, 1.62];\n",
       "update();\n",
       "console.log(\"updating\");\n",
       "</script>"
      ],
      "text/plain": [
       "<IPython.core.display.HTML object>"
      ]
     },
     "metadata": {},
     "output_type": "display_data"
    },
    {
     "name": "stdout",
     "output_type": "stream",
     "text": [
      "[1.81, 1.75, 1.75, 1.69, 1.62, 1.62]\n",
      "{u'Z': 1.62, u'label': u'Or', u'Y': 0.06, u'X': 349.31, u'tick': u'2058584', u'type': u'BINARY'}\n"
     ]
    },
    {
     "data": {
      "text/html": [
       "<script>\n",
       "data = [2.06, 1.94, 1.88, 1.81, 1.75, 1.75, 1.69, 1.62, 1.62, 1.62];\n",
       "update();\n",
       "console.log(\"updating\");\n",
       "</script>"
      ],
      "text/plain": [
       "<IPython.core.display.HTML object>"
      ]
     },
     "metadata": {},
     "output_type": "display_data"
    },
    {
     "name": "stdout",
     "output_type": "stream",
     "text": [
      "[1.75, 1.75, 1.69, 1.62, 1.62, 1.62]\n",
      "{u'Z': 1.62, u'label': u'Or', u'Y': 0.06, u'X': 349.31, u'tick': u'2058790', u'type': u'BINARY'}\n"
     ]
    },
    {
     "data": {
      "text/html": [
       "<script>\n",
       "data = [1.94, 1.88, 1.81, 1.75, 1.75, 1.69, 1.62, 1.62, 1.62, 1.62];\n",
       "update();\n",
       "console.log(\"updating\");\n",
       "</script>"
      ],
      "text/plain": [
       "<IPython.core.display.HTML object>"
      ]
     },
     "metadata": {},
     "output_type": "display_data"
    },
    {
     "name": "stdout",
     "output_type": "stream",
     "text": [
      "[1.75, 1.69, 1.62, 1.62, 1.62, 1.62]\n",
      "{u'Z': 1.62, u'label': u'Or', u'Y': 0.06, u'X': 349.31, u'tick': u'2058993', u'type': u'BINARY'}\n"
     ]
    },
    {
     "data": {
      "text/html": [
       "<script>\n",
       "data = [1.88, 1.81, 1.75, 1.75, 1.69, 1.62, 1.62, 1.62, 1.62, 1.62];\n",
       "update();\n",
       "console.log(\"updating\");\n",
       "</script>"
      ],
      "text/plain": [
       "<IPython.core.display.HTML object>"
      ]
     },
     "metadata": {},
     "output_type": "display_data"
    },
    {
     "name": "stdout",
     "output_type": "stream",
     "text": [
      "[1.69, 1.62, 1.62, 1.62, 1.62, 1.62]\n",
      "{u'Z': 1.62, u'label': u'Or', u'Y': 0.06, u'X': 349.31, u'tick': u'2059199', u'type': u'BINARY'}\n"
     ]
    },
    {
     "data": {
      "text/html": [
       "<script>\n",
       "data = [1.81, 1.75, 1.75, 1.69, 1.62, 1.62, 1.62, 1.62, 1.62, 1.62];\n",
       "update();\n",
       "console.log(\"updating\");\n",
       "</script>"
      ],
      "text/plain": [
       "<IPython.core.display.HTML object>"
      ]
     },
     "metadata": {},
     "output_type": "display_data"
    },
    {
     "name": "stdout",
     "output_type": "stream",
     "text": [
      "[1.62, 1.62, 1.62, 1.62, 1.62, 1.62]\n",
      "{u'Z': 1.62, u'label': u'Or', u'Y': 0.06, u'X': 349.31, u'tick': u'2059403', u'type': u'BINARY'}\n"
     ]
    },
    {
     "data": {
      "text/html": [
       "<script>\n",
       "data = [1.75, 1.75, 1.69, 1.62, 1.62, 1.62, 1.62, 1.62, 1.62, 1.62];\n",
       "update();\n",
       "console.log(\"updating\");\n",
       "</script>"
      ],
      "text/plain": [
       "<IPython.core.display.HTML object>"
      ]
     },
     "metadata": {},
     "output_type": "display_data"
    },
    {
     "name": "stdout",
     "output_type": "stream",
     "text": [
      "[1.62, 1.62, 1.62, 1.62, 1.62, 1.62]\n",
      "{u'Z': 1.62, u'label': u'Or', u'Y': 0.06, u'X': 349.31, u'tick': u'2059606', u'type': u'BINARY'}\n"
     ]
    },
    {
     "data": {
      "text/html": [
       "<script>\n",
       "data = [1.75, 1.69, 1.62, 1.62, 1.62, 1.62, 1.62, 1.62, 1.62, 1.62];\n",
       "update();\n",
       "console.log(\"updating\");\n",
       "</script>"
      ],
      "text/plain": [
       "<IPython.core.display.HTML object>"
      ]
     },
     "metadata": {},
     "output_type": "display_data"
    },
    {
     "name": "stdout",
     "output_type": "stream",
     "text": [
      "[1.62, 1.62, 1.62, 1.62, 1.62, 1.62]\n",
      "{u'Z': 1.62, u'label': u'Or', u'Y': 0.06, u'X': 349.31, u'tick': u'2059812', u'type': u'BINARY'}\n"
     ]
    },
    {
     "data": {
      "text/html": [
       "<script>\n",
       "data = [1.69, 1.62, 1.62, 1.62, 1.62, 1.62, 1.62, 1.62, 1.62, 1.62];\n",
       "update();\n",
       "console.log(\"updating\");\n",
       "</script>"
      ],
      "text/plain": [
       "<IPython.core.display.HTML object>"
      ]
     },
     "metadata": {},
     "output_type": "display_data"
    },
    {
     "name": "stdout",
     "output_type": "stream",
     "text": [
      "[1.62, 1.62, 1.62, 1.62, 1.62, 1.62]\n",
      "{u'Z': 1.62, u'label': u'Or', u'Y': 0.06, u'X': 349.31, u'tick': u'2060015', u'type': u'BINARY'}\n"
     ]
    },
    {
     "data": {
      "text/html": [
       "<script>\n",
       "data = [1.62, 1.62, 1.62, 1.62, 1.62, 1.62, 1.62, 1.62, 1.62, 1.62];\n",
       "update();\n",
       "console.log(\"updating\");\n",
       "</script>"
      ],
      "text/plain": [
       "<IPython.core.display.HTML object>"
      ]
     },
     "metadata": {},
     "output_type": "display_data"
    },
    {
     "name": "stdout",
     "output_type": "stream",
     "text": [
      "[1.62, 1.62, 1.62, 1.62, 1.62, 1.62]\n",
      "{u'Z': 1.62, u'label': u'Or', u'Y': 0.06, u'X': 349.31, u'tick': u'2060221', u'type': u'BINARY'}\n"
     ]
    },
    {
     "data": {
      "text/html": [
       "<script>\n",
       "data = [1.62, 1.62, 1.62, 1.62, 1.62, 1.62, 1.62, 1.62, 1.62, 1.62];\n",
       "update();\n",
       "console.log(\"updating\");\n",
       "</script>"
      ],
      "text/plain": [
       "<IPython.core.display.HTML object>"
      ]
     },
     "metadata": {},
     "output_type": "display_data"
    },
    {
     "name": "stdout",
     "output_type": "stream",
     "text": [
      "[1.62, 1.62, 1.62, 1.62, 1.62, 1.62]\n",
      "{u'Z': 1.62, u'label': u'Or', u'Y': 0.06, u'X': 349.31, u'tick': u'2060425', u'type': u'BINARY'}\n"
     ]
    },
    {
     "data": {
      "text/html": [
       "<script>\n",
       "data = [1.62, 1.62, 1.62, 1.62, 1.62, 1.62, 1.62, 1.62, 1.62, 1.62];\n",
       "update();\n",
       "console.log(\"updating\");\n",
       "</script>"
      ],
      "text/plain": [
       "<IPython.core.display.HTML object>"
      ]
     },
     "metadata": {},
     "output_type": "display_data"
    },
    {
     "name": "stdout",
     "output_type": "stream",
     "text": [
      "[1.62, 1.62, 1.62, 1.62, 1.62, 1.62]\n",
      "{u'Z': 1.56, u'label': u'Or', u'Y': 0.0, u'X': 349.31, u'tick': u'2060629', u'type': u'BINARY'}\n"
     ]
    },
    {
     "data": {
      "text/html": [
       "<script>\n",
       "data = [1.62, 1.62, 1.62, 1.62, 1.62, 1.62, 1.62, 1.62, 1.62, 1.56];\n",
       "update();\n",
       "console.log(\"updating\");\n",
       "</script>"
      ],
      "text/plain": [
       "<IPython.core.display.HTML object>"
      ]
     },
     "metadata": {},
     "output_type": "display_data"
    },
    {
     "name": "stdout",
     "output_type": "stream",
     "text": [
      "[1.62, 1.62, 1.62, 1.62, 1.62, 1.56]\n",
      "{u'Z': 1.56, u'label': u'Or', u'Y': 0.0, u'X': 349.31, u'tick': u'2060835', u'type': u'BINARY'}\n"
     ]
    },
    {
     "data": {
      "text/html": [
       "<script>\n",
       "data = [1.62, 1.62, 1.62, 1.62, 1.62, 1.62, 1.62, 1.62, 1.56, 1.56];\n",
       "update();\n",
       "console.log(\"updating\");\n",
       "</script>"
      ],
      "text/plain": [
       "<IPython.core.display.HTML object>"
      ]
     },
     "metadata": {},
     "output_type": "display_data"
    },
    {
     "name": "stdout",
     "output_type": "stream",
     "text": [
      "[1.62, 1.62, 1.62, 1.62, 1.56, 1.56]\n",
      "{u'Z': 1.5, u'label': u'Or', u'Y': 0.0, u'X': 349.31, u'tick': u'2061038', u'type': u'BINARY'}\n"
     ]
    },
    {
     "data": {
      "text/html": [
       "<script>\n",
       "data = [1.62, 1.62, 1.62, 1.62, 1.62, 1.62, 1.62, 1.56, 1.56, 1.5];\n",
       "update();\n",
       "console.log(\"updating\");\n",
       "</script>"
      ],
      "text/plain": [
       "<IPython.core.display.HTML object>"
      ]
     },
     "metadata": {},
     "output_type": "display_data"
    },
    {
     "name": "stdout",
     "output_type": "stream",
     "text": [
      "[1.62, 1.62, 1.62, 1.56, 1.56, 1.5]\n"
     ]
    }
   ],
   "source": [
    "import paho.mqtt.client as mqtt\n",
    "\n",
    "n_to_save = 10\n",
    "data = [0 for i in range(n_to_save)]\n",
    "\n",
    "# update_graph(data)\n",
    "\n",
    "def on_connect(client, userdata, flags, rc):\n",
    "    print(\"Connected with result code \"+str(rc))\n",
    "    client.subscribe(\"/outTopic\")\n",
    "\n",
    "def on_message(client, userdata, msg):\n",
    "    global data\n",
    "    try:\n",
    "        msg_json = json.loads(msg.payload)\n",
    "    except:\n",
    "        print(\"Error\")\n",
    "        print(msg.topic+\" \"+str(msg.payload))\n",
    "        return\n",
    "    print(msg_json)\n",
    "    if msg_json['type'] == \"BINARY\" and msg_json['label'] == \"Or\":\n",
    "        # data.append((msg_json['X'], msg_json['Y'], msg_json['Z']))\n",
    "        data.append(msg_json['Z'])\n",
    "        update_graph(data[-n_to_save:])\n",
    "        print(data[-6:])\n",
    "\n",
    "client = mqtt.Client()\n",
    "client.on_connect = on_connect\n",
    "client.on_message = on_message\n",
    "client.username_pw_set(\"zettlmtm\", \"VOUbRcmhjffA\")\n",
    "client.connect(\"m11.cloudmqtt.com\", 19280, 60)\n",
    "client.loop_start()\n",
    "# Make sure to call client.loop_stop() later"
   ]
  },
  {
   "cell_type": "code",
   "execution_count": 31,
   "metadata": {
    "collapsed": false
   },
   "outputs": [
    {
     "data": {
      "text/plain": [
       "3"
      ]
     },
     "execution_count": 31,
     "metadata": {},
     "output_type": "execute_result"
    }
   ],
   "source": [
    "client.loop_stop()"
   ]
  },
  {
   "cell_type": "code",
   "execution_count": 33,
   "metadata": {
    "collapsed": false
   },
   "outputs": [
    {
     "name": "stdout",
     "output_type": "stream",
     "text": [
      "[0, 0, 0, 0, 0, 0, 0, 0, 0, 0, 1.19, 1.19, 1.19, 1.19, 1.19, 1.19, 1.19, 1.19, 1.19, 1.19, 1.19, 1.19, 1.19, 0.69, -3.31, -13.19, -20.94, -27.94, -35.81, -38.56, -39.88, -42.94, -44.19, -45.75, -42.88, -30.56, -17.06, -9.56, -3.75, 2.0, 7.56, 19.44, 32.81, 43.81, 57.19, 69.88, 79.25, 88.88, 91.06, 91.12, 89.0, 84.75, 76.69, 66.81, 56.94, 47.31, 38.5, 30.38, 22.88, 10.81, 4.06, 3.56, 2.12, 2.06, 1.94, 1.88, 1.81, 1.75, 1.75, 1.69, 1.62, 1.62, 1.62, 1.62, 1.62, 1.62, 1.62, 1.62, 1.62, 1.62, 1.62, 1.62, 1.56, 1.56, 1.5, 1.5]\n"
     ]
    }
   ],
   "source": [
    "print(data)"
   ]
  },
  {
   "cell_type": "code",
   "execution_count": 19,
   "metadata": {
    "collapsed": false
   },
   "outputs": [],
   "source": [
    "from time import sleep\n",
    "for i in range(len(data)-10):\n",
    "    update_graph(data[i:i+10])\n",
    "    sleep(0.2)"
   ]
  },
  {
   "cell_type": "markdown",
   "metadata": {},
   "source": [
    "# Replaying old data!\n",
    "\n",
    "The code in the cell below replays the old data on the graph using the collected data.  This could also be a Jupyter widget to allow scrubbing if I knew how that worked."
   ]
  },
  {
   "cell_type": "code",
   "execution_count": 34,
   "metadata": {
    "collapsed": true
   },
   "outputs": [],
   "source": [
    "from __future__ import print_function\n",
    "from ipywidgets import interact, interactive, fixed\n",
    "import ipywidgets as widgets"
   ]
  },
  {
   "cell_type": "code",
   "execution_count": 35,
   "metadata": {
    "collapsed": true
   },
   "outputs": [],
   "source": [
    "def update_from_slider(x):\n",
    "    update_graph(data[x:x+10])"
   ]
  },
  {
   "cell_type": "code",
   "execution_count": 18,
   "metadata": {
    "collapsed": false,
    "scrolled": false
   },
   "outputs": [
    {
     "data": {
      "text/html": [
       "<script>\n",
       "data = [-70.81, -73.5, -71.88, -68.12, -63.81, -52.19, -38.69, -29.5, -18.38, -9.5];\n",
       "update();\n",
       "console.log(\"updating\");\n",
       "</script>"
      ],
      "text/plain": [
       "<IPython.core.display.HTML object>"
      ]
     },
     "metadata": {},
     "output_type": "display_data"
    }
   ],
   "source": [
    "interact(update_from_slider, x=widgets.IntSlider(min=0,max=len(data)-10,step=1,value=0));"
   ]
  },
  {
   "cell_type": "code",
   "execution_count": null,
   "metadata": {
    "collapsed": true
   },
   "outputs": [],
   "source": []
  }
 ],
 "metadata": {
  "kernelspec": {
   "display_name": "Python 2",
   "language": "python",
   "name": "python2"
  },
  "language_info": {
   "codemirror_mode": {
    "name": "ipython",
    "version": 2
   },
   "file_extension": ".py",
   "mimetype": "text/x-python",
   "name": "python",
   "nbconvert_exporter": "python",
   "pygments_lexer": "ipython2",
   "version": "2.7.11"
  },
  "widgets": {
   "state": {
    "47f4f0566cca4e19affbb5ee806d8ffb": {
     "views": [
      {
       "cell_index": 6
      }
     ]
    }
   },
   "version": "1.2.0"
  }
 },
 "nbformat": 4,
 "nbformat_minor": 1
}
