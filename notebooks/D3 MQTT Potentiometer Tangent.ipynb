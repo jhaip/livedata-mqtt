{
 "cells": [
  {
   "cell_type": "markdown",
   "metadata": {},
   "source": [
    "# Step 1: Set up D3 area"
   ]
  },
  {
   "cell_type": "code",
   "execution_count": 1,
   "metadata": {
    "collapsed": true
   },
   "outputs": [],
   "source": [
    "from IPython.core.display import display, HTML\n",
    "from string import Template\n",
    "import pandas as pd\n",
    "import json, random"
   ]
  },
  {
   "cell_type": "code",
   "execution_count": 2,
   "metadata": {
    "collapsed": false
   },
   "outputs": [
    {
     "data": {
      "text/html": [
       "<script src=\"lib/d3/d3.min.js\"></script>"
      ],
      "text/plain": [
       "<IPython.core.display.HTML object>"
      ]
     },
     "execution_count": 2,
     "metadata": {},
     "output_type": "execute_result"
    }
   ],
   "source": [
    "HTML('<script src=\"lib/d3/d3.min.js\"></script>')"
   ]
  },
  {
   "cell_type": "code",
   "execution_count": 3,
   "metadata": {
    "collapsed": true
   },
   "outputs": [],
   "source": [
    "html_template = Template('''\n",
    "<svg id=\"graph-div\"></div>\n",
    "<script> $js_text </script>\n",
    "''')"
   ]
  },
  {
   "cell_type": "code",
   "execution_count": 16,
   "metadata": {
    "collapsed": true
   },
   "outputs": [],
   "source": [
    "js_text_template = Template('''\n",
    "var data = $data;\n",
    "\n",
    "var barHeight = 30;\n",
    "var barWidth = 30;\n",
    "var width = 400;\n",
    "\n",
    "var x = d3.scale.linear()\n",
    "        .domain([0, 4096])\n",
    "        .range([\"black\", \"white\"]);\n",
    "\n",
    "var chart = d3.select('#graph-div')\n",
    "    .attr('width', width)\n",
    "    .attr('height', 400);\n",
    "\n",
    "function update() {\n",
    "    var row = chart.selectAll('.item')\n",
    "        .data(data)\n",
    "        .enter()\n",
    "        .append('g')\n",
    "        .attr('class', 'item')\n",
    "        .attr('transform', function(d, i){\n",
    "            console.log(d);\n",
    "            console.log(i);\n",
    "            return 'translate(' + barWidth * (i%10) + ', ' + barHeight * Math.floor(i/10) + ')';\n",
    "        })\n",
    "        .append('rect')\n",
    "        .attr('width', barWidth)\n",
    "        .attr('height', barHeight)\n",
    "        .attr('fill', function(d) {\n",
    "            return x(d);\n",
    "        });\n",
    "}\n",
    "\n",
    "update();\n",
    "''')"
   ]
  },
  {
   "cell_type": "code",
   "execution_count": 17,
   "metadata": {
    "collapsed": false
   },
   "outputs": [
    {
     "data": {
      "text/html": [
       "\n",
       "<svg id=\"graph-div\"></div>\n",
       "<script> \n",
       "var data = [];\n",
       "\n",
       "var barHeight = 30;\n",
       "var barWidth = 30;\n",
       "var width = 400;\n",
       "\n",
       "var x = d3.scale.linear()\n",
       "        .domain([0, 4096])\n",
       "        .range([\"black\", \"white\"]);\n",
       "\n",
       "var chart = d3.select('#graph-div')\n",
       "    .attr('width', width)\n",
       "    .attr('height', 400);\n",
       "\n",
       "function update() {\n",
       "    var row = chart.selectAll('.item')\n",
       "        .data(data)\n",
       "        .enter()\n",
       "        .append('g')\n",
       "        .attr('class', 'item')\n",
       "        .attr('transform', function(d, i){\n",
       "            console.log(d);\n",
       "            console.log(i);\n",
       "            return 'translate(' + barWidth * (i%10) + ', ' + barHeight * Math.floor(i/10) + ')';\n",
       "        })\n",
       "        .append('rect')\n",
       "        .attr('width', barWidth)\n",
       "        .attr('height', barHeight)\n",
       "        .attr('fill', function(d) {\n",
       "            return x(d);\n",
       "        });\n",
       "}\n",
       "\n",
       "update();\n",
       " </script>\n"
      ],
      "text/plain": [
       "<IPython.core.display.HTML object>"
      ]
     },
     "execution_count": 17,
     "metadata": {},
     "output_type": "execute_result"
    }
   ],
   "source": [
    "data = [];\n",
    "js_text = js_text_template.substitute({'data': json.dumps(data)})\n",
    "HTML(html_template.substitute({'js_text': js_text}))"
   ]
  },
  {
   "cell_type": "markdown",
   "metadata": {},
   "source": [
    "### OK, the D3 area is set up\n",
    "\n",
    "Now we'll focus on live updating.  A manual test first."
   ]
  },
  {
   "cell_type": "code",
   "execution_count": 18,
   "metadata": {
    "collapsed": true
   },
   "outputs": [],
   "source": [
    "js_text_template_2 = Template('''\n",
    "data = $data;\n",
    "update();\n",
    "console.log(\"updating\");\n",
    "''')"
   ]
  },
  {
   "cell_type": "code",
   "execution_count": 19,
   "metadata": {
    "collapsed": false
   },
   "outputs": [
    {
     "data": {
      "text/html": [
       "<script>\n",
       "data = [];\n",
       "update();\n",
       "console.log(\"updating\");\n",
       "</script>"
      ],
      "text/plain": [
       "<IPython.core.display.HTML object>"
      ]
     },
     "metadata": {},
     "output_type": "display_data"
    }
   ],
   "source": [
    "data = [] #[0,500,1000,2000,4000]\n",
    "\n",
    "def update_graph(data):\n",
    "    js_text = js_text_template_2.substitute({'data': json.dumps(data)})\n",
    "    display(HTML('<script>' + js_text + '</script>'))\n",
    "\n",
    "update_graph(data)"
   ]
  },
  {
   "cell_type": "markdown",
   "metadata": {},
   "source": [
    "# Step 2: Now use MQTT to update the graph\n",
    "\n",
    "Now for the fun stuff.  Using the `update_graph(data)` function set up above.  Each group of data, separated by `\"start\"` messages, is saved in the `tests` array.  As new data comes in, the live data graph is updated to show data from the last test.  All data is neatly saved inside the tests array for replotting and further analysis later.\n",
    "\n",
    "Using the CloudMQTT free Cat plan:\n",
    "* https://api.cloudmqtt.com/sso/cloudmqtt/console\n",
    "* haipjacob@gmail.com:paramour-sieve-paper\n",
    "* If the Websocket UI has trouble connecting, restart the instance"
   ]
  },
  {
   "cell_type": "code",
   "execution_count": 23,
   "metadata": {
    "collapsed": false
   },
   "outputs": [
    {
     "data": {
      "text/html": [
       "<script>\n",
       "data = [];\n",
       "update();\n",
       "console.log(\"updating\");\n",
       "</script>"
      ],
      "text/plain": [
       "<IPython.core.display.HTML object>"
      ]
     },
     "metadata": {},
     "output_type": "display_data"
    },
    {
     "name": "stdout",
     "output_type": "stream",
     "text": [
      "Connected with result code 0\n",
      "Error\n",
      "/outTopic hello world\n"
     ]
    },
    {
     "data": {
      "text/html": [
       "<script>\n",
       "data = [7];\n",
       "update();\n",
       "console.log(\"updating\");\n",
       "</script>"
      ],
      "text/plain": [
       "<IPython.core.display.HTML object>"
      ]
     },
     "metadata": {},
     "output_type": "display_data"
    },
    {
     "name": "stdout",
     "output_type": "stream",
     "text": [
      "7 [7]\n"
     ]
    },
    {
     "data": {
      "text/html": [
       "<script>\n",
       "data = [7, 8];\n",
       "update();\n",
       "console.log(\"updating\");\n",
       "</script>"
      ],
      "text/plain": [
       "<IPython.core.display.HTML object>"
      ]
     },
     "metadata": {},
     "output_type": "display_data"
    },
    {
     "name": "stdout",
     "output_type": "stream",
     "text": [
      "8 [7, 8]\n"
     ]
    },
    {
     "data": {
      "text/html": [
       "<script>\n",
       "data = [7, 8, 9];\n",
       "update();\n",
       "console.log(\"updating\");\n",
       "</script>"
      ],
      "text/plain": [
       "<IPython.core.display.HTML object>"
      ]
     },
     "metadata": {},
     "output_type": "display_data"
    },
    {
     "name": "stdout",
     "output_type": "stream",
     "text": [
      "9 [7, 8, 9]\n"
     ]
    },
    {
     "data": {
      "text/html": [
       "<script>\n",
       "data = [7, 8, 9, 8];\n",
       "update();\n",
       "console.log(\"updating\");\n",
       "</script>"
      ],
      "text/plain": [
       "<IPython.core.display.HTML object>"
      ]
     },
     "metadata": {},
     "output_type": "display_data"
    },
    {
     "name": "stdout",
     "output_type": "stream",
     "text": [
      "8 [7, 8, 9, 8]\n"
     ]
    },
    {
     "data": {
      "text/html": [
       "<script>\n",
       "data = [7, 8, 9, 8, 7];\n",
       "update();\n",
       "console.log(\"updating\");\n",
       "</script>"
      ],
      "text/plain": [
       "<IPython.core.display.HTML object>"
      ]
     },
     "metadata": {},
     "output_type": "display_data"
    },
    {
     "name": "stdout",
     "output_type": "stream",
     "text": [
      "7 [7, 8, 9, 8, 7]\n"
     ]
    },
    {
     "data": {
      "text/html": [
       "<script>\n",
       "data = [7, 8, 9, 8, 7, 8];\n",
       "update();\n",
       "console.log(\"updating\");\n",
       "</script>"
      ],
      "text/plain": [
       "<IPython.core.display.HTML object>"
      ]
     },
     "metadata": {},
     "output_type": "display_data"
    },
    {
     "name": "stdout",
     "output_type": "stream",
     "text": [
      "8 [7, 8, 9, 8, 7, 8]\n"
     ]
    },
    {
     "data": {
      "text/html": [
       "<script>\n",
       "data = [7, 8, 9, 8, 7, 8, 8];\n",
       "update();\n",
       "console.log(\"updating\");\n",
       "</script>"
      ],
      "text/plain": [
       "<IPython.core.display.HTML object>"
      ]
     },
     "metadata": {},
     "output_type": "display_data"
    },
    {
     "name": "stdout",
     "output_type": "stream",
     "text": [
      "8 [7, 8, 9, 8, 7, 8, 8]\n"
     ]
    },
    {
     "data": {
      "text/html": [
       "<script>\n",
       "data = [7, 8, 9, 8, 7, 8, 8, 22];\n",
       "update();\n",
       "console.log(\"updating\");\n",
       "</script>"
      ],
      "text/plain": [
       "<IPython.core.display.HTML object>"
      ]
     },
     "metadata": {},
     "output_type": "display_data"
    },
    {
     "name": "stdout",
     "output_type": "stream",
     "text": [
      "22 [7, 8, 9, 8, 7, 8, 8, 22]\n"
     ]
    },
    {
     "data": {
      "text/html": [
       "<script>\n",
       "data = [7, 8, 9, 8, 7, 8, 8, 22, 518];\n",
       "update();\n",
       "console.log(\"updating\");\n",
       "</script>"
      ],
      "text/plain": [
       "<IPython.core.display.HTML object>"
      ]
     },
     "metadata": {},
     "output_type": "display_data"
    },
    {
     "name": "stdout",
     "output_type": "stream",
     "text": [
      "518 [7, 8, 9, 8, 7, 8, 8, 22, 518]\n"
     ]
    },
    {
     "data": {
      "text/html": [
       "<script>\n",
       "data = [7, 8, 9, 8, 7, 8, 8, 22, 518, 1013];\n",
       "update();\n",
       "console.log(\"updating\");\n",
       "</script>"
      ],
      "text/plain": [
       "<IPython.core.display.HTML object>"
      ]
     },
     "metadata": {},
     "output_type": "display_data"
    },
    {
     "name": "stdout",
     "output_type": "stream",
     "text": [
      "1013 [7, 8, 9, 8, 7, 8, 8, 22, 518, 1013]\n"
     ]
    },
    {
     "data": {
      "text/html": [
       "<script>\n",
       "data = [7, 8, 9, 8, 7, 8, 8, 22, 518, 1013, 1480];\n",
       "update();\n",
       "console.log(\"updating\");\n",
       "</script>"
      ],
      "text/plain": [
       "<IPython.core.display.HTML object>"
      ]
     },
     "metadata": {},
     "output_type": "display_data"
    },
    {
     "name": "stdout",
     "output_type": "stream",
     "text": [
      "1480 [7, 8, 9, 8, 7, 8, 8, 22, 518, 1013, 1480]\n"
     ]
    },
    {
     "data": {
      "text/html": [
       "<script>\n",
       "data = [7, 8, 9, 8, 7, 8, 8, 22, 518, 1013, 1480, 1613];\n",
       "update();\n",
       "console.log(\"updating\");\n",
       "</script>"
      ],
      "text/plain": [
       "<IPython.core.display.HTML object>"
      ]
     },
     "metadata": {},
     "output_type": "display_data"
    },
    {
     "name": "stdout",
     "output_type": "stream",
     "text": [
      "1613 [7, 8, 9, 8, 7, 8, 8, 22, 518, 1013, 1480, 1613]\n"
     ]
    },
    {
     "data": {
      "text/html": [
       "<script>\n",
       "data = [7, 8, 9, 8, 7, 8, 8, 22, 518, 1013, 1480, 1613, 2003];\n",
       "update();\n",
       "console.log(\"updating\");\n",
       "</script>"
      ],
      "text/plain": [
       "<IPython.core.display.HTML object>"
      ]
     },
     "metadata": {},
     "output_type": "display_data"
    },
    {
     "name": "stdout",
     "output_type": "stream",
     "text": [
      "2003 [7, 8, 9, 8, 7, 8, 8, 22, 518, 1013, 1480, 1613, 2003]\n"
     ]
    },
    {
     "data": {
      "text/html": [
       "<script>\n",
       "data = [7, 8, 9, 8, 7, 8, 8, 22, 518, 1013, 1480, 1613, 2003, 2007];\n",
       "update();\n",
       "console.log(\"updating\");\n",
       "</script>"
      ],
      "text/plain": [
       "<IPython.core.display.HTML object>"
      ]
     },
     "metadata": {},
     "output_type": "display_data"
    },
    {
     "name": "stdout",
     "output_type": "stream",
     "text": [
      "2007 [7, 8, 9, 8, 7, 8, 8, 22, 518, 1013, 1480, 1613, 2003, 2007]\n"
     ]
    },
    {
     "data": {
      "text/html": [
       "<script>\n",
       "data = [7, 8, 9, 8, 7, 8, 8, 22, 518, 1013, 1480, 1613, 2003, 2007, 2551];\n",
       "update();\n",
       "console.log(\"updating\");\n",
       "</script>"
      ],
      "text/plain": [
       "<IPython.core.display.HTML object>"
      ]
     },
     "metadata": {},
     "output_type": "display_data"
    },
    {
     "name": "stdout",
     "output_type": "stream",
     "text": [
      "2551 [7, 8, 9, 8, 7, 8, 8, 22, 518, 1013, 1480, 1613, 2003, 2007, 2551]\n"
     ]
    },
    {
     "data": {
      "text/html": [
       "<script>\n",
       "data = [7, 8, 9, 8, 7, 8, 8, 22, 518, 1013, 1480, 1613, 2003, 2007, 2551, 2855];\n",
       "update();\n",
       "console.log(\"updating\");\n",
       "</script>"
      ],
      "text/plain": [
       "<IPython.core.display.HTML object>"
      ]
     },
     "metadata": {},
     "output_type": "display_data"
    },
    {
     "name": "stdout",
     "output_type": "stream",
     "text": [
      "2855 [7, 8, 9, 8, 7, 8, 8, 22, 518, 1013, 1480, 1613, 2003, 2007, 2551, 2855]\n"
     ]
    },
    {
     "data": {
      "text/html": [
       "<script>\n",
       "data = [7, 8, 9, 8, 7, 8, 8, 22, 518, 1013, 1480, 1613, 2003, 2007, 2551, 2855, 2891];\n",
       "update();\n",
       "console.log(\"updating\");\n",
       "</script>"
      ],
      "text/plain": [
       "<IPython.core.display.HTML object>"
      ]
     },
     "metadata": {},
     "output_type": "display_data"
    },
    {
     "name": "stdout",
     "output_type": "stream",
     "text": [
      "2891 [7, 8, 9, 8, 7, 8, 8, 22, 518, 1013, 1480, 1613, 2003, 2007, 2551, 2855, 2891]\n"
     ]
    },
    {
     "data": {
      "text/html": [
       "<script>\n",
       "data = [7, 8, 9, 8, 7, 8, 8, 22, 518, 1013, 1480, 1613, 2003, 2007, 2551, 2855, 2891, 2955];\n",
       "update();\n",
       "console.log(\"updating\");\n",
       "</script>"
      ],
      "text/plain": [
       "<IPython.core.display.HTML object>"
      ]
     },
     "metadata": {},
     "output_type": "display_data"
    },
    {
     "name": "stdout",
     "output_type": "stream",
     "text": [
      "2955 [7, 8, 9, 8, 7, 8, 8, 22, 518, 1013, 1480, 1613, 2003, 2007, 2551, 2855, 2891, 2955]\n"
     ]
    },
    {
     "data": {
      "text/html": [
       "<script>\n",
       "data = [7, 8, 9, 8, 7, 8, 8, 22, 518, 1013, 1480, 1613, 2003, 2007, 2551, 2855, 2891, 2955, 2576];\n",
       "update();\n",
       "console.log(\"updating\");\n",
       "</script>"
      ],
      "text/plain": [
       "<IPython.core.display.HTML object>"
      ]
     },
     "metadata": {},
     "output_type": "display_data"
    },
    {
     "name": "stdout",
     "output_type": "stream",
     "text": [
      "2576 [7, 8, 9, 8, 7, 8, 8, 22, 518, 1013, 1480, 1613, 2003, 2007, 2551, 2855, 2891, 2955, 2576]\n"
     ]
    },
    {
     "data": {
      "text/html": [
       "<script>\n",
       "data = [7, 8, 9, 8, 7, 8, 8, 22, 518, 1013, 1480, 1613, 2003, 2007, 2551, 2855, 2891, 2955, 2576, 1944];\n",
       "update();\n",
       "console.log(\"updating\");\n",
       "</script>"
      ],
      "text/plain": [
       "<IPython.core.display.HTML object>"
      ]
     },
     "metadata": {},
     "output_type": "display_data"
    },
    {
     "name": "stdout",
     "output_type": "stream",
     "text": [
      "1944 [7, 8, 9, 8, 7, 8, 8, 22, 518, 1013, 1480, 1613, 2003, 2007, 2551, 2855, 2891, 2955, 2576, 1944]\n"
     ]
    },
    {
     "data": {
      "text/html": [
       "<script>\n",
       "data = [7, 8, 9, 8, 7, 8, 8, 22, 518, 1013, 1480, 1613, 2003, 2007, 2551, 2855, 2891, 2955, 2576, 1944, 1943];\n",
       "update();\n",
       "console.log(\"updating\");\n",
       "</script>"
      ],
      "text/plain": [
       "<IPython.core.display.HTML object>"
      ]
     },
     "metadata": {},
     "output_type": "display_data"
    },
    {
     "name": "stdout",
     "output_type": "stream",
     "text": [
      "1943 [7, 8, 9, 8, 7, 8, 8, 22, 518, 1013, 1480, 1613, 2003, 2007, 2551, 2855, 2891, 2955, 2576, 1944, 1943]\n"
     ]
    },
    {
     "data": {
      "text/html": [
       "<script>\n",
       "data = [7, 8, 9, 8, 7, 8, 8, 22, 518, 1013, 1480, 1613, 2003, 2007, 2551, 2855, 2891, 2955, 2576, 1944, 1943, 1944];\n",
       "update();\n",
       "console.log(\"updating\");\n",
       "</script>"
      ],
      "text/plain": [
       "<IPython.core.display.HTML object>"
      ]
     },
     "metadata": {},
     "output_type": "display_data"
    },
    {
     "name": "stdout",
     "output_type": "stream",
     "text": [
      "1944 [7, 8, 9, 8, 7, 8, 8, 22, 518, 1013, 1480, 1613, 2003, 2007, 2551, 2855, 2891, 2955, 2576, 1944, 1943, 1944]\n"
     ]
    },
    {
     "data": {
      "text/html": [
       "<script>\n",
       "data = [7, 8, 9, 8, 7, 8, 8, 22, 518, 1013, 1480, 1613, 2003, 2007, 2551, 2855, 2891, 2955, 2576, 1944, 1943, 1944, 1943];\n",
       "update();\n",
       "console.log(\"updating\");\n",
       "</script>"
      ],
      "text/plain": [
       "<IPython.core.display.HTML object>"
      ]
     },
     "metadata": {},
     "output_type": "display_data"
    },
    {
     "name": "stdout",
     "output_type": "stream",
     "text": [
      "1943 [7, 8, 9, 8, 7, 8, 8, 22, 518, 1013, 1480, 1613, 2003, 2007, 2551, 2855, 2891, 2955, 2576, 1944, 1943, 1944, 1943]\n"
     ]
    },
    {
     "data": {
      "text/html": [
       "<script>\n",
       "data = [7, 8, 9, 8, 7, 8, 8, 22, 518, 1013, 1480, 1613, 2003, 2007, 2551, 2855, 2891, 2955, 2576, 1944, 1943, 1944, 1943, 1942];\n",
       "update();\n",
       "console.log(\"updating\");\n",
       "</script>"
      ],
      "text/plain": [
       "<IPython.core.display.HTML object>"
      ]
     },
     "metadata": {},
     "output_type": "display_data"
    },
    {
     "name": "stdout",
     "output_type": "stream",
     "text": [
      "1942 [7, 8, 9, 8, 7, 8, 8, 22, 518, 1013, 1480, 1613, 2003, 2007, 2551, 2855, 2891, 2955, 2576, 1944, 1943, 1944, 1943, 1942]\n"
     ]
    },
    {
     "data": {
      "text/html": [
       "<script>\n",
       "data = [7, 8, 9, 8, 7, 8, 8, 22, 518, 1013, 1480, 1613, 2003, 2007, 2551, 2855, 2891, 2955, 2576, 1944, 1943, 1944, 1943, 1942, 1942];\n",
       "update();\n",
       "console.log(\"updating\");\n",
       "</script>"
      ],
      "text/plain": [
       "<IPython.core.display.HTML object>"
      ]
     },
     "metadata": {},
     "output_type": "display_data"
    },
    {
     "name": "stdout",
     "output_type": "stream",
     "text": [
      "1942 [7, 8, 9, 8, 7, 8, 8, 22, 518, 1013, 1480, 1613, 2003, 2007, 2551, 2855, 2891, 2955, 2576, 1944, 1943, 1944, 1943, 1942, 1942]\n"
     ]
    },
    {
     "data": {
      "text/html": [
       "<script>\n",
       "data = [7, 8, 9, 8, 7, 8, 8, 22, 518, 1013, 1480, 1613, 2003, 2007, 2551, 2855, 2891, 2955, 2576, 1944, 1943, 1944, 1943, 1942, 1942, 1944];\n",
       "update();\n",
       "console.log(\"updating\");\n",
       "</script>"
      ],
      "text/plain": [
       "<IPython.core.display.HTML object>"
      ]
     },
     "metadata": {},
     "output_type": "display_data"
    },
    {
     "name": "stdout",
     "output_type": "stream",
     "text": [
      "1944 [7, 8, 9, 8, 7, 8, 8, 22, 518, 1013, 1480, 1613, 2003, 2007, 2551, 2855, 2891, 2955, 2576, 1944, 1943, 1944, 1943, 1942, 1942, 1944]\n"
     ]
    },
    {
     "data": {
      "text/html": [
       "<script>\n",
       "data = [7, 8, 9, 8, 7, 8, 8, 22, 518, 1013, 1480, 1613, 2003, 2007, 2551, 2855, 2891, 2955, 2576, 1944, 1943, 1944, 1943, 1942, 1942, 1944, 1943];\n",
       "update();\n",
       "console.log(\"updating\");\n",
       "</script>"
      ],
      "text/plain": [
       "<IPython.core.display.HTML object>"
      ]
     },
     "metadata": {},
     "output_type": "display_data"
    },
    {
     "name": "stdout",
     "output_type": "stream",
     "text": [
      "1943 [7, 8, 9, 8, 7, 8, 8, 22, 518, 1013, 1480, 1613, 2003, 2007, 2551, 2855, 2891, 2955, 2576, 1944, 1943, 1944, 1943, 1942, 1942, 1944, 1943]\n"
     ]
    },
    {
     "data": {
      "text/html": [
       "<script>\n",
       "data = [7, 8, 9, 8, 7, 8, 8, 22, 518, 1013, 1480, 1613, 2003, 2007, 2551, 2855, 2891, 2955, 2576, 1944, 1943, 1944, 1943, 1942, 1942, 1944, 1943, 1943];\n",
       "update();\n",
       "console.log(\"updating\");\n",
       "</script>"
      ],
      "text/plain": [
       "<IPython.core.display.HTML object>"
      ]
     },
     "metadata": {},
     "output_type": "display_data"
    },
    {
     "name": "stdout",
     "output_type": "stream",
     "text": [
      "1943 [7, 8, 9, 8, 7, 8, 8, 22, 518, 1013, 1480, 1613, 2003, 2007, 2551, 2855, 2891, 2955, 2576, 1944, 1943, 1944, 1943, 1942, 1942, 1944, 1943, 1943]\n"
     ]
    },
    {
     "data": {
      "text/html": [
       "<script>\n",
       "data = [7, 8, 9, 8, 7, 8, 8, 22, 518, 1013, 1480, 1613, 2003, 2007, 2551, 2855, 2891, 2955, 2576, 1944, 1943, 1944, 1943, 1942, 1942, 1944, 1943, 1943, 1943];\n",
       "update();\n",
       "console.log(\"updating\");\n",
       "</script>"
      ],
      "text/plain": [
       "<IPython.core.display.HTML object>"
      ]
     },
     "metadata": {},
     "output_type": "display_data"
    },
    {
     "name": "stdout",
     "output_type": "stream",
     "text": [
      "1943 [7, 8, 9, 8, 7, 8, 8, 22, 518, 1013, 1480, 1613, 2003, 2007, 2551, 2855, 2891, 2955, 2576, 1944, 1943, 1944, 1943, 1942, 1942, 1944, 1943, 1943, 1943]\n",
      "Error\n",
      "/outTopic hello world\n"
     ]
    },
    {
     "data": {
      "text/html": [
       "<script>\n",
       "data = [7, 8, 9, 8, 7, 8, 8, 22, 518, 1013, 1480, 1613, 2003, 2007, 2551, 2855, 2891, 2955, 2576, 1944, 1943, 1944, 1943, 1942, 1942, 1944, 1943, 1943, 1943, 1980];\n",
       "update();\n",
       "console.log(\"updating\");\n",
       "</script>"
      ],
      "text/plain": [
       "<IPython.core.display.HTML object>"
      ]
     },
     "metadata": {},
     "output_type": "display_data"
    },
    {
     "name": "stdout",
     "output_type": "stream",
     "text": [
      "1980 [7, 8, 9, 8, 7, 8, 8, 22, 518, 1013, 1480, 1613, 2003, 2007, 2551, 2855, 2891, 2955, 2576, 1944, 1943, 1944, 1943, 1942, 1942, 1944, 1943, 1943, 1943, 1980]\n"
     ]
    },
    {
     "data": {
      "text/html": [
       "<script>\n",
       "data = [7, 8, 9, 8, 7, 8, 8, 22, 518, 1013, 1480, 1613, 2003, 2007, 2551, 2855, 2891, 2955, 2576, 1944, 1943, 1944, 1943, 1942, 1942, 1944, 1943, 1943, 1943, 1980, 1982];\n",
       "update();\n",
       "console.log(\"updating\");\n",
       "</script>"
      ],
      "text/plain": [
       "<IPython.core.display.HTML object>"
      ]
     },
     "metadata": {},
     "output_type": "display_data"
    },
    {
     "name": "stdout",
     "output_type": "stream",
     "text": [
      "1982 [7, 8, 9, 8, 7, 8, 8, 22, 518, 1013, 1480, 1613, 2003, 2007, 2551, 2855, 2891, 2955, 2576, 1944, 1943, 1944, 1943, 1942, 1942, 1944, 1943, 1943, 1943, 1980, 1982]\n"
     ]
    },
    {
     "data": {
      "text/html": [
       "<script>\n",
       "data = [7, 8, 9, 8, 7, 8, 8, 22, 518, 1013, 1480, 1613, 2003, 2007, 2551, 2855, 2891, 2955, 2576, 1944, 1943, 1944, 1943, 1942, 1942, 1944, 1943, 1943, 1943, 1980, 1982, 1982];\n",
       "update();\n",
       "console.log(\"updating\");\n",
       "</script>"
      ],
      "text/plain": [
       "<IPython.core.display.HTML object>"
      ]
     },
     "metadata": {},
     "output_type": "display_data"
    },
    {
     "name": "stdout",
     "output_type": "stream",
     "text": [
      "1982 [7, 8, 9, 8, 7, 8, 8, 22, 518, 1013, 1480, 1613, 2003, 2007, 2551, 2855, 2891, 2955, 2576, 1944, 1943, 1944, 1943, 1942, 1942, 1944, 1943, 1943, 1943, 1980, 1982, 1982]\n"
     ]
    },
    {
     "data": {
      "text/html": [
       "<script>\n",
       "data = [7, 8, 9, 8, 7, 8, 8, 22, 518, 1013, 1480, 1613, 2003, 2007, 2551, 2855, 2891, 2955, 2576, 1944, 1943, 1944, 1943, 1942, 1942, 1944, 1943, 1943, 1943, 1980, 1982, 1982, 1982];\n",
       "update();\n",
       "console.log(\"updating\");\n",
       "</script>"
      ],
      "text/plain": [
       "<IPython.core.display.HTML object>"
      ]
     },
     "metadata": {},
     "output_type": "display_data"
    },
    {
     "name": "stdout",
     "output_type": "stream",
     "text": [
      "1982 [7, 8, 9, 8, 7, 8, 8, 22, 518, 1013, 1480, 1613, 2003, 2007, 2551, 2855, 2891, 2955, 2576, 1944, 1943, 1944, 1943, 1942, 1942, 1944, 1943, 1943, 1943, 1980, 1982, 1982, 1982]\n"
     ]
    },
    {
     "data": {
      "text/html": [
       "<script>\n",
       "data = [7, 8, 9, 8, 7, 8, 8, 22, 518, 1013, 1480, 1613, 2003, 2007, 2551, 2855, 2891, 2955, 2576, 1944, 1943, 1944, 1943, 1942, 1942, 1944, 1943, 1943, 1943, 1980, 1982, 1982, 1982, 1982];\n",
       "update();\n",
       "console.log(\"updating\");\n",
       "</script>"
      ],
      "text/plain": [
       "<IPython.core.display.HTML object>"
      ]
     },
     "metadata": {},
     "output_type": "display_data"
    },
    {
     "name": "stdout",
     "output_type": "stream",
     "text": [
      "1982 [7, 8, 9, 8, 7, 8, 8, 22, 518, 1013, 1480, 1613, 2003, 2007, 2551, 2855, 2891, 2955, 2576, 1944, 1943, 1944, 1943, 1942, 1942, 1944, 1943, 1943, 1943, 1980, 1982, 1982, 1982, 1982]\n"
     ]
    },
    {
     "data": {
      "text/html": [
       "<script>\n",
       "data = [7, 8, 9, 8, 7, 8, 8, 22, 518, 1013, 1480, 1613, 2003, 2007, 2551, 2855, 2891, 2955, 2576, 1944, 1943, 1944, 1943, 1942, 1942, 1944, 1943, 1943, 1943, 1980, 1982, 1982, 1982, 1982, 1982];\n",
       "update();\n",
       "console.log(\"updating\");\n",
       "</script>"
      ],
      "text/plain": [
       "<IPython.core.display.HTML object>"
      ]
     },
     "metadata": {},
     "output_type": "display_data"
    },
    {
     "name": "stdout",
     "output_type": "stream",
     "text": [
      "1982 [7, 8, 9, 8, 7, 8, 8, 22, 518, 1013, 1480, 1613, 2003, 2007, 2551, 2855, 2891, 2955, 2576, 1944, 1943, 1944, 1943, 1942, 1942, 1944, 1943, 1943, 1943, 1980, 1982, 1982, 1982, 1982, 1982]\n"
     ]
    },
    {
     "data": {
      "text/html": [
       "<script>\n",
       "data = [7, 8, 9, 8, 7, 8, 8, 22, 518, 1013, 1480, 1613, 2003, 2007, 2551, 2855, 2891, 2955, 2576, 1944, 1943, 1944, 1943, 1942, 1942, 1944, 1943, 1943, 1943, 1980, 1982, 1982, 1982, 1982, 1982, 1982];\n",
       "update();\n",
       "console.log(\"updating\");\n",
       "</script>"
      ],
      "text/plain": [
       "<IPython.core.display.HTML object>"
      ]
     },
     "metadata": {},
     "output_type": "display_data"
    },
    {
     "name": "stdout",
     "output_type": "stream",
     "text": [
      "1982 [7, 8, 9, 8, 7, 8, 8, 22, 518, 1013, 1480, 1613, 2003, 2007, 2551, 2855, 2891, 2955, 2576, 1944, 1943, 1944, 1943, 1942, 1942, 1944, 1943, 1943, 1943, 1980, 1982, 1982, 1982, 1982, 1982, 1982]\n"
     ]
    },
    {
     "data": {
      "text/html": [
       "<script>\n",
       "data = [7, 8, 9, 8, 7, 8, 8, 22, 518, 1013, 1480, 1613, 2003, 2007, 2551, 2855, 2891, 2955, 2576, 1944, 1943, 1944, 1943, 1942, 1942, 1944, 1943, 1943, 1943, 1980, 1982, 1982, 1982, 1982, 1982, 1982, 1982];\n",
       "update();\n",
       "console.log(\"updating\");\n",
       "</script>"
      ],
      "text/plain": [
       "<IPython.core.display.HTML object>"
      ]
     },
     "metadata": {},
     "output_type": "display_data"
    },
    {
     "name": "stdout",
     "output_type": "stream",
     "text": [
      "1982 [7, 8, 9, 8, 7, 8, 8, 22, 518, 1013, 1480, 1613, 2003, 2007, 2551, 2855, 2891, 2955, 2576, 1944, 1943, 1944, 1943, 1942, 1942, 1944, 1943, 1943, 1943, 1980, 1982, 1982, 1982, 1982, 1982, 1982, 1982]\n"
     ]
    },
    {
     "data": {
      "text/html": [
       "<script>\n",
       "data = [7, 8, 9, 8, 7, 8, 8, 22, 518, 1013, 1480, 1613, 2003, 2007, 2551, 2855, 2891, 2955, 2576, 1944, 1943, 1944, 1943, 1942, 1942, 1944, 1943, 1943, 1943, 1980, 1982, 1982, 1982, 1982, 1982, 1982, 1982, 1981];\n",
       "update();\n",
       "console.log(\"updating\");\n",
       "</script>"
      ],
      "text/plain": [
       "<IPython.core.display.HTML object>"
      ]
     },
     "metadata": {},
     "output_type": "display_data"
    },
    {
     "name": "stdout",
     "output_type": "stream",
     "text": [
      "1981 [7, 8, 9, 8, 7, 8, 8, 22, 518, 1013, 1480, 1613, 2003, 2007, 2551, 2855, 2891, 2955, 2576, 1944, 1943, 1944, 1943, 1942, 1942, 1944, 1943, 1943, 1943, 1980, 1982, 1982, 1982, 1982, 1982, 1982, 1982, 1981]\n"
     ]
    },
    {
     "data": {
      "text/html": [
       "<script>\n",
       "data = [7, 8, 9, 8, 7, 8, 8, 22, 518, 1013, 1480, 1613, 2003, 2007, 2551, 2855, 2891, 2955, 2576, 1944, 1943, 1944, 1943, 1942, 1942, 1944, 1943, 1943, 1943, 1980, 1982, 1982, 1982, 1982, 1982, 1982, 1982, 1981, 1982];\n",
       "update();\n",
       "console.log(\"updating\");\n",
       "</script>"
      ],
      "text/plain": [
       "<IPython.core.display.HTML object>"
      ]
     },
     "metadata": {},
     "output_type": "display_data"
    },
    {
     "name": "stdout",
     "output_type": "stream",
     "text": [
      "1982 [7, 8, 9, 8, 7, 8, 8, 22, 518, 1013, 1480, 1613, 2003, 2007, 2551, 2855, 2891, 2955, 2576, 1944, 1943, 1944, 1943, 1942, 1942, 1944, 1943, 1943, 1943, 1980, 1982, 1982, 1982, 1982, 1982, 1982, 1982, 1981, 1982]\n"
     ]
    },
    {
     "data": {
      "text/html": [
       "<script>\n",
       "data = [7, 8, 9, 8, 7, 8, 8, 22, 518, 1013, 1480, 1613, 2003, 2007, 2551, 2855, 2891, 2955, 2576, 1944, 1943, 1944, 1943, 1942, 1942, 1944, 1943, 1943, 1943, 1980, 1982, 1982, 1982, 1982, 1982, 1982, 1982, 1981, 1982, 1981];\n",
       "update();\n",
       "console.log(\"updating\");\n",
       "</script>"
      ],
      "text/plain": [
       "<IPython.core.display.HTML object>"
      ]
     },
     "metadata": {},
     "output_type": "display_data"
    },
    {
     "name": "stdout",
     "output_type": "stream",
     "text": [
      "1981 [7, 8, 9, 8, 7, 8, 8, 22, 518, 1013, 1480, 1613, 2003, 2007, 2551, 2855, 2891, 2955, 2576, 1944, 1943, 1944, 1943, 1942, 1942, 1944, 1943, 1943, 1943, 1980, 1982, 1982, 1982, 1982, 1982, 1982, 1982, 1981, 1982, 1981]\n"
     ]
    },
    {
     "data": {
      "text/html": [
       "<script>\n",
       "data = [7, 8, 9, 8, 7, 8, 8, 22, 518, 1013, 1480, 1613, 2003, 2007, 2551, 2855, 2891, 2955, 2576, 1944, 1943, 1944, 1943, 1942, 1942, 1944, 1943, 1943, 1943, 1980, 1982, 1982, 1982, 1982, 1982, 1982, 1982, 1981, 1982, 1981, 1980];\n",
       "update();\n",
       "console.log(\"updating\");\n",
       "</script>"
      ],
      "text/plain": [
       "<IPython.core.display.HTML object>"
      ]
     },
     "metadata": {},
     "output_type": "display_data"
    },
    {
     "name": "stdout",
     "output_type": "stream",
     "text": [
      "1980 [7, 8, 9, 8, 7, 8, 8, 22, 518, 1013, 1480, 1613, 2003, 2007, 2551, 2855, 2891, 2955, 2576, 1944, 1943, 1944, 1943, 1942, 1942, 1944, 1943, 1943, 1943, 1980, 1982, 1982, 1982, 1982, 1982, 1982, 1982, 1981, 1982, 1981, 1980]\n"
     ]
    },
    {
     "data": {
      "text/html": [
       "<script>\n",
       "data = [7, 8, 9, 8, 7, 8, 8, 22, 518, 1013, 1480, 1613, 2003, 2007, 2551, 2855, 2891, 2955, 2576, 1944, 1943, 1944, 1943, 1942, 1942, 1944, 1943, 1943, 1943, 1980, 1982, 1982, 1982, 1982, 1982, 1982, 1982, 1981, 1982, 1981, 1980, 1976];\n",
       "update();\n",
       "console.log(\"updating\");\n",
       "</script>"
      ],
      "text/plain": [
       "<IPython.core.display.HTML object>"
      ]
     },
     "metadata": {},
     "output_type": "display_data"
    },
    {
     "name": "stdout",
     "output_type": "stream",
     "text": [
      "1976 [7, 8, 9, 8, 7, 8, 8, 22, 518, 1013, 1480, 1613, 2003, 2007, 2551, 2855, 2891, 2955, 2576, 1944, 1943, 1944, 1943, 1942, 1942, 1944, 1943, 1943, 1943, 1980, 1982, 1982, 1982, 1982, 1982, 1982, 1982, 1981, 1982, 1981, 1980, 1976]\n"
     ]
    },
    {
     "data": {
      "text/html": [
       "<script>\n",
       "data = [7, 8, 9, 8, 7, 8, 8, 22, 518, 1013, 1480, 1613, 2003, 2007, 2551, 2855, 2891, 2955, 2576, 1944, 1943, 1944, 1943, 1942, 1942, 1944, 1943, 1943, 1943, 1980, 1982, 1982, 1982, 1982, 1982, 1982, 1982, 1981, 1982, 1981, 1980, 1976, 2010];\n",
       "update();\n",
       "console.log(\"updating\");\n",
       "</script>"
      ],
      "text/plain": [
       "<IPython.core.display.HTML object>"
      ]
     },
     "metadata": {},
     "output_type": "display_data"
    },
    {
     "name": "stdout",
     "output_type": "stream",
     "text": [
      "2010 [7, 8, 9, 8, 7, 8, 8, 22, 518, 1013, 1480, 1613, 2003, 2007, 2551, 2855, 2891, 2955, 2576, 1944, 1943, 1944, 1943, 1942, 1942, 1944, 1943, 1943, 1943, 1980, 1982, 1982, 1982, 1982, 1982, 1982, 1982, 1981, 1982, 1981, 1980, 1976, 2010]\n"
     ]
    },
    {
     "data": {
      "text/html": [
       "<script>\n",
       "data = [7, 8, 9, 8, 7, 8, 8, 22, 518, 1013, 1480, 1613, 2003, 2007, 2551, 2855, 2891, 2955, 2576, 1944, 1943, 1944, 1943, 1942, 1942, 1944, 1943, 1943, 1943, 1980, 1982, 1982, 1982, 1982, 1982, 1982, 1982, 1981, 1982, 1981, 1980, 1976, 2010, 2332];\n",
       "update();\n",
       "console.log(\"updating\");\n",
       "</script>"
      ],
      "text/plain": [
       "<IPython.core.display.HTML object>"
      ]
     },
     "metadata": {},
     "output_type": "display_data"
    },
    {
     "name": "stdout",
     "output_type": "stream",
     "text": [
      "2332 [7, 8, 9, 8, 7, 8, 8, 22, 518, 1013, 1480, 1613, 2003, 2007, 2551, 2855, 2891, 2955, 2576, 1944, 1943, 1944, 1943, 1942, 1942, 1944, 1943, 1943, 1943, 1980, 1982, 1982, 1982, 1982, 1982, 1982, 1982, 1981, 1982, 1981, 1980, 1976, 2010, 2332]\n"
     ]
    },
    {
     "data": {
      "text/html": [
       "<script>\n",
       "data = [7, 8, 9, 8, 7, 8, 8, 22, 518, 1013, 1480, 1613, 2003, 2007, 2551, 2855, 2891, 2955, 2576, 1944, 1943, 1944, 1943, 1942, 1942, 1944, 1943, 1943, 1943, 1980, 1982, 1982, 1982, 1982, 1982, 1982, 1982, 1981, 1982, 1981, 1980, 1976, 2010, 2332, 2343];\n",
       "update();\n",
       "console.log(\"updating\");\n",
       "</script>"
      ],
      "text/plain": [
       "<IPython.core.display.HTML object>"
      ]
     },
     "metadata": {},
     "output_type": "display_data"
    },
    {
     "name": "stdout",
     "output_type": "stream",
     "text": [
      "2343 [7, 8, 9, 8, 7, 8, 8, 22, 518, 1013, 1480, 1613, 2003, 2007, 2551, 2855, 2891, 2955, 2576, 1944, 1943, 1944, 1943, 1942, 1942, 1944, 1943, 1943, 1943, 1980, 1982, 1982, 1982, 1982, 1982, 1982, 1982, 1981, 1982, 1981, 1980, 1976, 2010, 2332, 2343]\n"
     ]
    },
    {
     "data": {
      "text/html": [
       "<script>\n",
       "data = [7, 8, 9, 8, 7, 8, 8, 22, 518, 1013, 1480, 1613, 2003, 2007, 2551, 2855, 2891, 2955, 2576, 1944, 1943, 1944, 1943, 1942, 1942, 1944, 1943, 1943, 1943, 1980, 1982, 1982, 1982, 1982, 1982, 1982, 1982, 1981, 1982, 1981, 1980, 1976, 2010, 2332, 2343, 2687];\n",
       "update();\n",
       "console.log(\"updating\");\n",
       "</script>"
      ],
      "text/plain": [
       "<IPython.core.display.HTML object>"
      ]
     },
     "metadata": {},
     "output_type": "display_data"
    },
    {
     "name": "stdout",
     "output_type": "stream",
     "text": [
      "2687 [7, 8, 9, 8, 7, 8, 8, 22, 518, 1013, 1480, 1613, 2003, 2007, 2551, 2855, 2891, 2955, 2576, 1944, 1943, 1944, 1943, 1942, 1942, 1944, 1943, 1943, 1943, 1980, 1982, 1982, 1982, 1982, 1982, 1982, 1982, 1981, 1982, 1981, 1980, 1976, 2010, 2332, 2343, 2687]\n"
     ]
    },
    {
     "data": {
      "text/html": [
       "<script>\n",
       "data = [7, 8, 9, 8, 7, 8, 8, 22, 518, 1013, 1480, 1613, 2003, 2007, 2551, 2855, 2891, 2955, 2576, 1944, 1943, 1944, 1943, 1942, 1942, 1944, 1943, 1943, 1943, 1980, 1982, 1982, 1982, 1982, 1982, 1982, 1982, 1981, 1982, 1981, 1980, 1976, 2010, 2332, 2343, 2687, 3052];\n",
       "update();\n",
       "console.log(\"updating\");\n",
       "</script>"
      ],
      "text/plain": [
       "<IPython.core.display.HTML object>"
      ]
     },
     "metadata": {},
     "output_type": "display_data"
    },
    {
     "name": "stdout",
     "output_type": "stream",
     "text": [
      "3052 [7, 8, 9, 8, 7, 8, 8, 22, 518, 1013, 1480, 1613, 2003, 2007, 2551, 2855, 2891, 2955, 2576, 1944, 1943, 1944, 1943, 1942, 1942, 1944, 1943, 1943, 1943, 1980, 1982, 1982, 1982, 1982, 1982, 1982, 1982, 1981, 1982, 1981, 1980, 1976, 2010, 2332, 2343, 2687, 3052]\n"
     ]
    },
    {
     "data": {
      "text/html": [
       "<script>\n",
       "data = [7, 8, 9, 8, 7, 8, 8, 22, 518, 1013, 1480, 1613, 2003, 2007, 2551, 2855, 2891, 2955, 2576, 1944, 1943, 1944, 1943, 1942, 1942, 1944, 1943, 1943, 1943, 1980, 1982, 1982, 1982, 1982, 1982, 1982, 1982, 1981, 1982, 1981, 1980, 1976, 2010, 2332, 2343, 2687, 3052, 3114];\n",
       "update();\n",
       "console.log(\"updating\");\n",
       "</script>"
      ],
      "text/plain": [
       "<IPython.core.display.HTML object>"
      ]
     },
     "metadata": {},
     "output_type": "display_data"
    },
    {
     "name": "stdout",
     "output_type": "stream",
     "text": [
      "3114 [7, 8, 9, 8, 7, 8, 8, 22, 518, 1013, 1480, 1613, 2003, 2007, 2551, 2855, 2891, 2955, 2576, 1944, 1943, 1944, 1943, 1942, 1942, 1944, 1943, 1943, 1943, 1980, 1982, 1982, 1982, 1982, 1982, 1982, 1982, 1981, 1982, 1981, 1980, 1976, 2010, 2332, 2343, 2687, 3052, 3114]\n"
     ]
    },
    {
     "data": {
      "text/html": [
       "<script>\n",
       "data = [7, 8, 9, 8, 7, 8, 8, 22, 518, 1013, 1480, 1613, 2003, 2007, 2551, 2855, 2891, 2955, 2576, 1944, 1943, 1944, 1943, 1942, 1942, 1944, 1943, 1943, 1943, 1980, 1982, 1982, 1982, 1982, 1982, 1982, 1982, 1981, 1982, 1981, 1980, 1976, 2010, 2332, 2343, 2687, 3052, 3114, 3114];\n",
       "update();\n",
       "console.log(\"updating\");\n",
       "</script>"
      ],
      "text/plain": [
       "<IPython.core.display.HTML object>"
      ]
     },
     "metadata": {},
     "output_type": "display_data"
    },
    {
     "name": "stdout",
     "output_type": "stream",
     "text": [
      "3114 [7, 8, 9, 8, 7, 8, 8, 22, 518, 1013, 1480, 1613, 2003, 2007, 2551, 2855, 2891, 2955, 2576, 1944, 1943, 1944, 1943, 1942, 1942, 1944, 1943, 1943, 1943, 1980, 1982, 1982, 1982, 1982, 1982, 1982, 1982, 1981, 1982, 1981, 1980, 1976, 2010, 2332, 2343, 2687, 3052, 3114, 3114]\n"
     ]
    },
    {
     "data": {
      "text/html": [
       "<script>\n",
       "data = [7, 8, 9, 8, 7, 8, 8, 22, 518, 1013, 1480, 1613, 2003, 2007, 2551, 2855, 2891, 2955, 2576, 1944, 1943, 1944, 1943, 1942, 1942, 1944, 1943, 1943, 1943, 1980, 1982, 1982, 1982, 1982, 1982, 1982, 1982, 1981, 1982, 1981, 1980, 1976, 2010, 2332, 2343, 2687, 3052, 3114, 3114, 2604];\n",
       "update();\n",
       "console.log(\"updating\");\n",
       "</script>"
      ],
      "text/plain": [
       "<IPython.core.display.HTML object>"
      ]
     },
     "metadata": {},
     "output_type": "display_data"
    },
    {
     "name": "stdout",
     "output_type": "stream",
     "text": [
      "2604 [7, 8, 9, 8, 7, 8, 8, 22, 518, 1013, 1480, 1613, 2003, 2007, 2551, 2855, 2891, 2955, 2576, 1944, 1943, 1944, 1943, 1942, 1942, 1944, 1943, 1943, 1943, 1980, 1982, 1982, 1982, 1982, 1982, 1982, 1982, 1981, 1982, 1981, 1980, 1976, 2010, 2332, 2343, 2687, 3052, 3114, 3114, 2604]\n"
     ]
    },
    {
     "data": {
      "text/html": [
       "<script>\n",
       "data = [7, 8, 9, 8, 7, 8, 8, 22, 518, 1013, 1480, 1613, 2003, 2007, 2551, 2855, 2891, 2955, 2576, 1944, 1943, 1944, 1943, 1942, 1942, 1944, 1943, 1943, 1943, 1980, 1982, 1982, 1982, 1982, 1982, 1982, 1982, 1981, 1982, 1981, 1980, 1976, 2010, 2332, 2343, 2687, 3052, 3114, 3114, 2604, 2094];\n",
       "update();\n",
       "console.log(\"updating\");\n",
       "</script>"
      ],
      "text/plain": [
       "<IPython.core.display.HTML object>"
      ]
     },
     "metadata": {},
     "output_type": "display_data"
    },
    {
     "name": "stdout",
     "output_type": "stream",
     "text": [
      "2094 [7, 8, 9, 8, 7, 8, 8, 22, 518, 1013, 1480, 1613, 2003, 2007, 2551, 2855, 2891, 2955, 2576, 1944, 1943, 1944, 1943, 1942, 1942, 1944, 1943, 1943, 1943, 1980, 1982, 1982, 1982, 1982, 1982, 1982, 1982, 1981, 1982, 1981, 1980, 1976, 2010, 2332, 2343, 2687, 3052, 3114, 3114, 2604, 2094]\n"
     ]
    },
    {
     "data": {
      "text/html": [
       "<script>\n",
       "data = [7, 8, 9, 8, 7, 8, 8, 22, 518, 1013, 1480, 1613, 2003, 2007, 2551, 2855, 2891, 2955, 2576, 1944, 1943, 1944, 1943, 1942, 1942, 1944, 1943, 1943, 1943, 1980, 1982, 1982, 1982, 1982, 1982, 1982, 1982, 1981, 1982, 1981, 1980, 1976, 2010, 2332, 2343, 2687, 3052, 3114, 3114, 2604, 2094, 1272];\n",
       "update();\n",
       "console.log(\"updating\");\n",
       "</script>"
      ],
      "text/plain": [
       "<IPython.core.display.HTML object>"
      ]
     },
     "metadata": {},
     "output_type": "display_data"
    },
    {
     "name": "stdout",
     "output_type": "stream",
     "text": [
      "1272 [7, 8, 9, 8, 7, 8, 8, 22, 518, 1013, 1480, 1613, 2003, 2007, 2551, 2855, 2891, 2955, 2576, 1944, 1943, 1944, 1943, 1942, 1942, 1944, 1943, 1943, 1943, 1980, 1982, 1982, 1982, 1982, 1982, 1982, 1982, 1981, 1982, 1981, 1980, 1976, 2010, 2332, 2343, 2687, 3052, 3114, 3114, 2604, 2094, 1272]\n"
     ]
    },
    {
     "data": {
      "text/html": [
       "<script>\n",
       "data = [7, 8, 9, 8, 7, 8, 8, 22, 518, 1013, 1480, 1613, 2003, 2007, 2551, 2855, 2891, 2955, 2576, 1944, 1943, 1944, 1943, 1942, 1942, 1944, 1943, 1943, 1943, 1980, 1982, 1982, 1982, 1982, 1982, 1982, 1982, 1981, 1982, 1981, 1980, 1976, 2010, 2332, 2343, 2687, 3052, 3114, 3114, 2604, 2094, 1272, 1203];\n",
       "update();\n",
       "console.log(\"updating\");\n",
       "</script>"
      ],
      "text/plain": [
       "<IPython.core.display.HTML object>"
      ]
     },
     "metadata": {},
     "output_type": "display_data"
    },
    {
     "name": "stdout",
     "output_type": "stream",
     "text": [
      "1203 [7, 8, 9, 8, 7, 8, 8, 22, 518, 1013, 1480, 1613, 2003, 2007, 2551, 2855, 2891, 2955, 2576, 1944, 1943, 1944, 1943, 1942, 1942, 1944, 1943, 1943, 1943, 1980, 1982, 1982, 1982, 1982, 1982, 1982, 1982, 1981, 1982, 1981, 1980, 1976, 2010, 2332, 2343, 2687, 3052, 3114, 3114, 2604, 2094, 1272, 1203]\n"
     ]
    },
    {
     "data": {
      "text/html": [
       "<script>\n",
       "data = [7, 8, 9, 8, 7, 8, 8, 22, 518, 1013, 1480, 1613, 2003, 2007, 2551, 2855, 2891, 2955, 2576, 1944, 1943, 1944, 1943, 1942, 1942, 1944, 1943, 1943, 1943, 1980, 1982, 1982, 1982, 1982, 1982, 1982, 1982, 1981, 1982, 1981, 1980, 1976, 2010, 2332, 2343, 2687, 3052, 3114, 3114, 2604, 2094, 1272, 1203, 1153];\n",
       "update();\n",
       "console.log(\"updating\");\n",
       "</script>"
      ],
      "text/plain": [
       "<IPython.core.display.HTML object>"
      ]
     },
     "metadata": {},
     "output_type": "display_data"
    },
    {
     "name": "stdout",
     "output_type": "stream",
     "text": [
      "1153 [7, 8, 9, 8, 7, 8, 8, 22, 518, 1013, 1480, 1613, 2003, 2007, 2551, 2855, 2891, 2955, 2576, 1944, 1943, 1944, 1943, 1942, 1942, 1944, 1943, 1943, 1943, 1980, 1982, 1982, 1982, 1982, 1982, 1982, 1982, 1981, 1982, 1981, 1980, 1976, 2010, 2332, 2343, 2687, 3052, 3114, 3114, 2604, 2094, 1272, 1203, 1153]\n"
     ]
    },
    {
     "data": {
      "text/html": [
       "<script>\n",
       "data = [7, 8, 9, 8, 7, 8, 8, 22, 518, 1013, 1480, 1613, 2003, 2007, 2551, 2855, 2891, 2955, 2576, 1944, 1943, 1944, 1943, 1942, 1942, 1944, 1943, 1943, 1943, 1980, 1982, 1982, 1982, 1982, 1982, 1982, 1982, 1981, 1982, 1981, 1980, 1976, 2010, 2332, 2343, 2687, 3052, 3114, 3114, 2604, 2094, 1272, 1203, 1153, 1084];\n",
       "update();\n",
       "console.log(\"updating\");\n",
       "</script>"
      ],
      "text/plain": [
       "<IPython.core.display.HTML object>"
      ]
     },
     "metadata": {},
     "output_type": "display_data"
    },
    {
     "name": "stdout",
     "output_type": "stream",
     "text": [
      "1084 [7, 8, 9, 8, 7, 8, 8, 22, 518, 1013, 1480, 1613, 2003, 2007, 2551, 2855, 2891, 2955, 2576, 1944, 1943, 1944, 1943, 1942, 1942, 1944, 1943, 1943, 1943, 1980, 1982, 1982, 1982, 1982, 1982, 1982, 1982, 1981, 1982, 1981, 1980, 1976, 2010, 2332, 2343, 2687, 3052, 3114, 3114, 2604, 2094, 1272, 1203, 1153, 1084]\n"
     ]
    },
    {
     "data": {
      "text/html": [
       "<script>\n",
       "data = [7, 8, 9, 8, 7, 8, 8, 22, 518, 1013, 1480, 1613, 2003, 2007, 2551, 2855, 2891, 2955, 2576, 1944, 1943, 1944, 1943, 1942, 1942, 1944, 1943, 1943, 1943, 1980, 1982, 1982, 1982, 1982, 1982, 1982, 1982, 1981, 1982, 1981, 1980, 1976, 2010, 2332, 2343, 2687, 3052, 3114, 3114, 2604, 2094, 1272, 1203, 1153, 1084, 1044];\n",
       "update();\n",
       "console.log(\"updating\");\n",
       "</script>"
      ],
      "text/plain": [
       "<IPython.core.display.HTML object>"
      ]
     },
     "metadata": {},
     "output_type": "display_data"
    },
    {
     "name": "stdout",
     "output_type": "stream",
     "text": [
      "1044 [7, 8, 9, 8, 7, 8, 8, 22, 518, 1013, 1480, 1613, 2003, 2007, 2551, 2855, 2891, 2955, 2576, 1944, 1943, 1944, 1943, 1942, 1942, 1944, 1943, 1943, 1943, 1980, 1982, 1982, 1982, 1982, 1982, 1982, 1982, 1981, 1982, 1981, 1980, 1976, 2010, 2332, 2343, 2687, 3052, 3114, 3114, 2604, 2094, 1272, 1203, 1153, 1084, 1044]\n"
     ]
    },
    {
     "data": {
      "text/html": [
       "<script>\n",
       "data = [7, 8, 9, 8, 7, 8, 8, 22, 518, 1013, 1480, 1613, 2003, 2007, 2551, 2855, 2891, 2955, 2576, 1944, 1943, 1944, 1943, 1942, 1942, 1944, 1943, 1943, 1943, 1980, 1982, 1982, 1982, 1982, 1982, 1982, 1982, 1981, 1982, 1981, 1980, 1976, 2010, 2332, 2343, 2687, 3052, 3114, 3114, 2604, 2094, 1272, 1203, 1153, 1084, 1044, 1044];\n",
       "update();\n",
       "console.log(\"updating\");\n",
       "</script>"
      ],
      "text/plain": [
       "<IPython.core.display.HTML object>"
      ]
     },
     "metadata": {},
     "output_type": "display_data"
    },
    {
     "name": "stdout",
     "output_type": "stream",
     "text": [
      "1044 [7, 8, 9, 8, 7, 8, 8, 22, 518, 1013, 1480, 1613, 2003, 2007, 2551, 2855, 2891, 2955, 2576, 1944, 1943, 1944, 1943, 1942, 1942, 1944, 1943, 1943, 1943, 1980, 1982, 1982, 1982, 1982, 1982, 1982, 1982, 1981, 1982, 1981, 1980, 1976, 2010, 2332, 2343, 2687, 3052, 3114, 3114, 2604, 2094, 1272, 1203, 1153, 1084, 1044, 1044]\n"
     ]
    },
    {
     "data": {
      "text/html": [
       "<script>\n",
       "data = [7, 8, 9, 8, 7, 8, 8, 22, 518, 1013, 1480, 1613, 2003, 2007, 2551, 2855, 2891, 2955, 2576, 1944, 1943, 1944, 1943, 1942, 1942, 1944, 1943, 1943, 1943, 1980, 1982, 1982, 1982, 1982, 1982, 1982, 1982, 1981, 1982, 1981, 1980, 1976, 2010, 2332, 2343, 2687, 3052, 3114, 3114, 2604, 2094, 1272, 1203, 1153, 1084, 1044, 1044, 1045];\n",
       "update();\n",
       "console.log(\"updating\");\n",
       "</script>"
      ],
      "text/plain": [
       "<IPython.core.display.HTML object>"
      ]
     },
     "metadata": {},
     "output_type": "display_data"
    },
    {
     "name": "stdout",
     "output_type": "stream",
     "text": [
      "1045 [7, 8, 9, 8, 7, 8, 8, 22, 518, 1013, 1480, 1613, 2003, 2007, 2551, 2855, 2891, 2955, 2576, 1944, 1943, 1944, 1943, 1942, 1942, 1944, 1943, 1943, 1943, 1980, 1982, 1982, 1982, 1982, 1982, 1982, 1982, 1981, 1982, 1981, 1980, 1976, 2010, 2332, 2343, 2687, 3052, 3114, 3114, 2604, 2094, 1272, 1203, 1153, 1084, 1044, 1044, 1045]\n",
      "Error\n",
      "/outTopic hello world\n"
     ]
    },
    {
     "data": {
      "text/html": [
       "<script>\n",
       "data = [7, 8, 9, 8, 7, 8, 8, 22, 518, 1013, 1480, 1613, 2003, 2007, 2551, 2855, 2891, 2955, 2576, 1944, 1943, 1944, 1943, 1942, 1942, 1944, 1943, 1943, 1943, 1980, 1982, 1982, 1982, 1982, 1982, 1982, 1982, 1981, 1982, 1981, 1980, 1976, 2010, 2332, 2343, 2687, 3052, 3114, 3114, 2604, 2094, 1272, 1203, 1153, 1084, 1044, 1044, 1045, 8];\n",
       "update();\n",
       "console.log(\"updating\");\n",
       "</script>"
      ],
      "text/plain": [
       "<IPython.core.display.HTML object>"
      ]
     },
     "metadata": {},
     "output_type": "display_data"
    },
    {
     "name": "stdout",
     "output_type": "stream",
     "text": [
      "8 [7, 8, 9, 8, 7, 8, 8, 22, 518, 1013, 1480, 1613, 2003, 2007, 2551, 2855, 2891, 2955, 2576, 1944, 1943, 1944, 1943, 1942, 1942, 1944, 1943, 1943, 1943, 1980, 1982, 1982, 1982, 1982, 1982, 1982, 1982, 1981, 1982, 1981, 1980, 1976, 2010, 2332, 2343, 2687, 3052, 3114, 3114, 2604, 2094, 1272, 1203, 1153, 1084, 1044, 1044, 1045, 8]\n"
     ]
    },
    {
     "data": {
      "text/html": [
       "<script>\n",
       "data = [7, 8, 9, 8, 7, 8, 8, 22, 518, 1013, 1480, 1613, 2003, 2007, 2551, 2855, 2891, 2955, 2576, 1944, 1943, 1944, 1943, 1942, 1942, 1944, 1943, 1943, 1943, 1980, 1982, 1982, 1982, 1982, 1982, 1982, 1982, 1981, 1982, 1981, 1980, 1976, 2010, 2332, 2343, 2687, 3052, 3114, 3114, 2604, 2094, 1272, 1203, 1153, 1084, 1044, 1044, 1045, 8, 8];\n",
       "update();\n",
       "console.log(\"updating\");\n",
       "</script>"
      ],
      "text/plain": [
       "<IPython.core.display.HTML object>"
      ]
     },
     "metadata": {},
     "output_type": "display_data"
    },
    {
     "name": "stdout",
     "output_type": "stream",
     "text": [
      "8 [7, 8, 9, 8, 7, 8, 8, 22, 518, 1013, 1480, 1613, 2003, 2007, 2551, 2855, 2891, 2955, 2576, 1944, 1943, 1944, 1943, 1942, 1942, 1944, 1943, 1943, 1943, 1980, 1982, 1982, 1982, 1982, 1982, 1982, 1982, 1981, 1982, 1981, 1980, 1976, 2010, 2332, 2343, 2687, 3052, 3114, 3114, 2604, 2094, 1272, 1203, 1153, 1084, 1044, 1044, 1045, 8, 8]\n"
     ]
    },
    {
     "data": {
      "text/html": [
       "<script>\n",
       "data = [7, 8, 9, 8, 7, 8, 8, 22, 518, 1013, 1480, 1613, 2003, 2007, 2551, 2855, 2891, 2955, 2576, 1944, 1943, 1944, 1943, 1942, 1942, 1944, 1943, 1943, 1943, 1980, 1982, 1982, 1982, 1982, 1982, 1982, 1982, 1981, 1982, 1981, 1980, 1976, 2010, 2332, 2343, 2687, 3052, 3114, 3114, 2604, 2094, 1272, 1203, 1153, 1084, 1044, 1044, 1045, 8, 8, 8];\n",
       "update();\n",
       "console.log(\"updating\");\n",
       "</script>"
      ],
      "text/plain": [
       "<IPython.core.display.HTML object>"
      ]
     },
     "metadata": {},
     "output_type": "display_data"
    },
    {
     "name": "stdout",
     "output_type": "stream",
     "text": [
      "8 [7, 8, 9, 8, 7, 8, 8, 22, 518, 1013, 1480, 1613, 2003, 2007, 2551, 2855, 2891, 2955, 2576, 1944, 1943, 1944, 1943, 1942, 1942, 1944, 1943, 1943, 1943, 1980, 1982, 1982, 1982, 1982, 1982, 1982, 1982, 1981, 1982, 1981, 1980, 1976, 2010, 2332, 2343, 2687, 3052, 3114, 3114, 2604, 2094, 1272, 1203, 1153, 1084, 1044, 1044, 1045, 8, 8, 8]\n"
     ]
    },
    {
     "data": {
      "text/html": [
       "<script>\n",
       "data = [7, 8, 9, 8, 7, 8, 8, 22, 518, 1013, 1480, 1613, 2003, 2007, 2551, 2855, 2891, 2955, 2576, 1944, 1943, 1944, 1943, 1942, 1942, 1944, 1943, 1943, 1943, 1980, 1982, 1982, 1982, 1982, 1982, 1982, 1982, 1981, 1982, 1981, 1980, 1976, 2010, 2332, 2343, 2687, 3052, 3114, 3114, 2604, 2094, 1272, 1203, 1153, 1084, 1044, 1044, 1045, 8, 8, 8, 8];\n",
       "update();\n",
       "console.log(\"updating\");\n",
       "</script>"
      ],
      "text/plain": [
       "<IPython.core.display.HTML object>"
      ]
     },
     "metadata": {},
     "output_type": "display_data"
    },
    {
     "name": "stdout",
     "output_type": "stream",
     "text": [
      "8 [7, 8, 9, 8, 7, 8, 8, 22, 518, 1013, 1480, 1613, 2003, 2007, 2551, 2855, 2891, 2955, 2576, 1944, 1943, 1944, 1943, 1942, 1942, 1944, 1943, 1943, 1943, 1980, 1982, 1982, 1982, 1982, 1982, 1982, 1982, 1981, 1982, 1981, 1980, 1976, 2010, 2332, 2343, 2687, 3052, 3114, 3114, 2604, 2094, 1272, 1203, 1153, 1084, 1044, 1044, 1045, 8, 8, 8, 8]\n"
     ]
    },
    {
     "data": {
      "text/html": [
       "<script>\n",
       "data = [7, 8, 9, 8, 7, 8, 8, 22, 518, 1013, 1480, 1613, 2003, 2007, 2551, 2855, 2891, 2955, 2576, 1944, 1943, 1944, 1943, 1942, 1942, 1944, 1943, 1943, 1943, 1980, 1982, 1982, 1982, 1982, 1982, 1982, 1982, 1981, 1982, 1981, 1980, 1976, 2010, 2332, 2343, 2687, 3052, 3114, 3114, 2604, 2094, 1272, 1203, 1153, 1084, 1044, 1044, 1045, 8, 8, 8, 8, 7];\n",
       "update();\n",
       "console.log(\"updating\");\n",
       "</script>"
      ],
      "text/plain": [
       "<IPython.core.display.HTML object>"
      ]
     },
     "metadata": {},
     "output_type": "display_data"
    },
    {
     "name": "stdout",
     "output_type": "stream",
     "text": [
      "7 [7, 8, 9, 8, 7, 8, 8, 22, 518, 1013, 1480, 1613, 2003, 2007, 2551, 2855, 2891, 2955, 2576, 1944, 1943, 1944, 1943, 1942, 1942, 1944, 1943, 1943, 1943, 1980, 1982, 1982, 1982, 1982, 1982, 1982, 1982, 1981, 1982, 1981, 1980, 1976, 2010, 2332, 2343, 2687, 3052, 3114, 3114, 2604, 2094, 1272, 1203, 1153, 1084, 1044, 1044, 1045, 8, 8, 8, 8, 7]\n"
     ]
    },
    {
     "data": {
      "text/html": [
       "<script>\n",
       "data = [7, 8, 9, 8, 7, 8, 8, 22, 518, 1013, 1480, 1613, 2003, 2007, 2551, 2855, 2891, 2955, 2576, 1944, 1943, 1944, 1943, 1942, 1942, 1944, 1943, 1943, 1943, 1980, 1982, 1982, 1982, 1982, 1982, 1982, 1982, 1981, 1982, 1981, 1980, 1976, 2010, 2332, 2343, 2687, 3052, 3114, 3114, 2604, 2094, 1272, 1203, 1153, 1084, 1044, 1044, 1045, 8, 8, 8, 8, 7, 8];\n",
       "update();\n",
       "console.log(\"updating\");\n",
       "</script>"
      ],
      "text/plain": [
       "<IPython.core.display.HTML object>"
      ]
     },
     "metadata": {},
     "output_type": "display_data"
    },
    {
     "name": "stdout",
     "output_type": "stream",
     "text": [
      "8 [7, 8, 9, 8, 7, 8, 8, 22, 518, 1013, 1480, 1613, 2003, 2007, 2551, 2855, 2891, 2955, 2576, 1944, 1943, 1944, 1943, 1942, 1942, 1944, 1943, 1943, 1943, 1980, 1982, 1982, 1982, 1982, 1982, 1982, 1982, 1981, 1982, 1981, 1980, 1976, 2010, 2332, 2343, 2687, 3052, 3114, 3114, 2604, 2094, 1272, 1203, 1153, 1084, 1044, 1044, 1045, 8, 8, 8, 8, 7, 8]\n"
     ]
    },
    {
     "data": {
      "text/html": [
       "<script>\n",
       "data = [7, 8, 9, 8, 7, 8, 8, 22, 518, 1013, 1480, 1613, 2003, 2007, 2551, 2855, 2891, 2955, 2576, 1944, 1943, 1944, 1943, 1942, 1942, 1944, 1943, 1943, 1943, 1980, 1982, 1982, 1982, 1982, 1982, 1982, 1982, 1981, 1982, 1981, 1980, 1976, 2010, 2332, 2343, 2687, 3052, 3114, 3114, 2604, 2094, 1272, 1203, 1153, 1084, 1044, 1044, 1045, 8, 8, 8, 8, 7, 8, 8];\n",
       "update();\n",
       "console.log(\"updating\");\n",
       "</script>"
      ],
      "text/plain": [
       "<IPython.core.display.HTML object>"
      ]
     },
     "metadata": {},
     "output_type": "display_data"
    },
    {
     "name": "stdout",
     "output_type": "stream",
     "text": [
      "8 [7, 8, 9, 8, 7, 8, 8, 22, 518, 1013, 1480, 1613, 2003, 2007, 2551, 2855, 2891, 2955, 2576, 1944, 1943, 1944, 1943, 1942, 1942, 1944, 1943, 1943, 1943, 1980, 1982, 1982, 1982, 1982, 1982, 1982, 1982, 1981, 1982, 1981, 1980, 1976, 2010, 2332, 2343, 2687, 3052, 3114, 3114, 2604, 2094, 1272, 1203, 1153, 1084, 1044, 1044, 1045, 8, 8, 8, 8, 7, 8, 8]\n"
     ]
    },
    {
     "data": {
      "text/html": [
       "<script>\n",
       "data = [7, 8, 9, 8, 7, 8, 8, 22, 518, 1013, 1480, 1613, 2003, 2007, 2551, 2855, 2891, 2955, 2576, 1944, 1943, 1944, 1943, 1942, 1942, 1944, 1943, 1943, 1943, 1980, 1982, 1982, 1982, 1982, 1982, 1982, 1982, 1981, 1982, 1981, 1980, 1976, 2010, 2332, 2343, 2687, 3052, 3114, 3114, 2604, 2094, 1272, 1203, 1153, 1084, 1044, 1044, 1045, 8, 8, 8, 8, 7, 8, 8, 59];\n",
       "update();\n",
       "console.log(\"updating\");\n",
       "</script>"
      ],
      "text/plain": [
       "<IPython.core.display.HTML object>"
      ]
     },
     "metadata": {},
     "output_type": "display_data"
    },
    {
     "name": "stdout",
     "output_type": "stream",
     "text": [
      "59 [7, 8, 9, 8, 7, 8, 8, 22, 518, 1013, 1480, 1613, 2003, 2007, 2551, 2855, 2891, 2955, 2576, 1944, 1943, 1944, 1943, 1942, 1942, 1944, 1943, 1943, 1943, 1980, 1982, 1982, 1982, 1982, 1982, 1982, 1982, 1981, 1982, 1981, 1980, 1976, 2010, 2332, 2343, 2687, 3052, 3114, 3114, 2604, 2094, 1272, 1203, 1153, 1084, 1044, 1044, 1045, 8, 8, 8, 8, 7, 8, 8, 59]\n"
     ]
    },
    {
     "data": {
      "text/html": [
       "<script>\n",
       "data = [7, 8, 9, 8, 7, 8, 8, 22, 518, 1013, 1480, 1613, 2003, 2007, 2551, 2855, 2891, 2955, 2576, 1944, 1943, 1944, 1943, 1942, 1942, 1944, 1943, 1943, 1943, 1980, 1982, 1982, 1982, 1982, 1982, 1982, 1982, 1981, 1982, 1981, 1980, 1976, 2010, 2332, 2343, 2687, 3052, 3114, 3114, 2604, 2094, 1272, 1203, 1153, 1084, 1044, 1044, 1045, 8, 8, 8, 8, 7, 8, 8, 59, 162];\n",
       "update();\n",
       "console.log(\"updating\");\n",
       "</script>"
      ],
      "text/plain": [
       "<IPython.core.display.HTML object>"
      ]
     },
     "metadata": {},
     "output_type": "display_data"
    },
    {
     "name": "stdout",
     "output_type": "stream",
     "text": [
      "162 [7, 8, 9, 8, 7, 8, 8, 22, 518, 1013, 1480, 1613, 2003, 2007, 2551, 2855, 2891, 2955, 2576, 1944, 1943, 1944, 1943, 1942, 1942, 1944, 1943, 1943, 1943, 1980, 1982, 1982, 1982, 1982, 1982, 1982, 1982, 1981, 1982, 1981, 1980, 1976, 2010, 2332, 2343, 2687, 3052, 3114, 3114, 2604, 2094, 1272, 1203, 1153, 1084, 1044, 1044, 1045, 8, 8, 8, 8, 7, 8, 8, 59, 162]\n"
     ]
    },
    {
     "data": {
      "text/html": [
       "<script>\n",
       "data = [7, 8, 9, 8, 7, 8, 8, 22, 518, 1013, 1480, 1613, 2003, 2007, 2551, 2855, 2891, 2955, 2576, 1944, 1943, 1944, 1943, 1942, 1942, 1944, 1943, 1943, 1943, 1980, 1982, 1982, 1982, 1982, 1982, 1982, 1982, 1981, 1982, 1981, 1980, 1976, 2010, 2332, 2343, 2687, 3052, 3114, 3114, 2604, 2094, 1272, 1203, 1153, 1084, 1044, 1044, 1045, 8, 8, 8, 8, 7, 8, 8, 59, 162, 2547];\n",
       "update();\n",
       "console.log(\"updating\");\n",
       "</script>"
      ],
      "text/plain": [
       "<IPython.core.display.HTML object>"
      ]
     },
     "metadata": {},
     "output_type": "display_data"
    },
    {
     "name": "stdout",
     "output_type": "stream",
     "text": [
      "2547 [7, 8, 9, 8, 7, 8, 8, 22, 518, 1013, 1480, 1613, 2003, 2007, 2551, 2855, 2891, 2955, 2576, 1944, 1943, 1944, 1943, 1942, 1942, 1944, 1943, 1943, 1943, 1980, 1982, 1982, 1982, 1982, 1982, 1982, 1982, 1981, 1982, 1981, 1980, 1976, 2010, 2332, 2343, 2687, 3052, 3114, 3114, 2604, 2094, 1272, 1203, 1153, 1084, 1044, 1044, 1045, 8, 8, 8, 8, 7, 8, 8, 59, 162, 2547]\n"
     ]
    },
    {
     "data": {
      "text/html": [
       "<script>\n",
       "data = [7, 8, 9, 8, 7, 8, 8, 22, 518, 1013, 1480, 1613, 2003, 2007, 2551, 2855, 2891, 2955, 2576, 1944, 1943, 1944, 1943, 1942, 1942, 1944, 1943, 1943, 1943, 1980, 1982, 1982, 1982, 1982, 1982, 1982, 1982, 1981, 1982, 1981, 1980, 1976, 2010, 2332, 2343, 2687, 3052, 3114, 3114, 2604, 2094, 1272, 1203, 1153, 1084, 1044, 1044, 1045, 8, 8, 8, 8, 7, 8, 8, 59, 162, 2547, 2515];\n",
       "update();\n",
       "console.log(\"updating\");\n",
       "</script>"
      ],
      "text/plain": [
       "<IPython.core.display.HTML object>"
      ]
     },
     "metadata": {},
     "output_type": "display_data"
    },
    {
     "name": "stdout",
     "output_type": "stream",
     "text": [
      "2515 [7, 8, 9, 8, 7, 8, 8, 22, 518, 1013, 1480, 1613, 2003, 2007, 2551, 2855, 2891, 2955, 2576, 1944, 1943, 1944, 1943, 1942, 1942, 1944, 1943, 1943, 1943, 1980, 1982, 1982, 1982, 1982, 1982, 1982, 1982, 1981, 1982, 1981, 1980, 1976, 2010, 2332, 2343, 2687, 3052, 3114, 3114, 2604, 2094, 1272, 1203, 1153, 1084, 1044, 1044, 1045, 8, 8, 8, 8, 7, 8, 8, 59, 162, 2547, 2515]\n"
     ]
    },
    {
     "data": {
      "text/html": [
       "<script>\n",
       "data = [7, 8, 9, 8, 7, 8, 8, 22, 518, 1013, 1480, 1613, 2003, 2007, 2551, 2855, 2891, 2955, 2576, 1944, 1943, 1944, 1943, 1942, 1942, 1944, 1943, 1943, 1943, 1980, 1982, 1982, 1982, 1982, 1982, 1982, 1982, 1981, 1982, 1981, 1980, 1976, 2010, 2332, 2343, 2687, 3052, 3114, 3114, 2604, 2094, 1272, 1203, 1153, 1084, 1044, 1044, 1045, 8, 8, 8, 8, 7, 8, 8, 59, 162, 2547, 2515, 3284];\n",
       "update();\n",
       "console.log(\"updating\");\n",
       "</script>"
      ],
      "text/plain": [
       "<IPython.core.display.HTML object>"
      ]
     },
     "metadata": {},
     "output_type": "display_data"
    },
    {
     "name": "stdout",
     "output_type": "stream",
     "text": [
      "3284 [7, 8, 9, 8, 7, 8, 8, 22, 518, 1013, 1480, 1613, 2003, 2007, 2551, 2855, 2891, 2955, 2576, 1944, 1943, 1944, 1943, 1942, 1942, 1944, 1943, 1943, 1943, 1980, 1982, 1982, 1982, 1982, 1982, 1982, 1982, 1981, 1982, 1981, 1980, 1976, 2010, 2332, 2343, 2687, 3052, 3114, 3114, 2604, 2094, 1272, 1203, 1153, 1084, 1044, 1044, 1045, 8, 8, 8, 8, 7, 8, 8, 59, 162, 2547, 2515, 3284]\n"
     ]
    },
    {
     "data": {
      "text/html": [
       "<script>\n",
       "data = [7, 8, 9, 8, 7, 8, 8, 22, 518, 1013, 1480, 1613, 2003, 2007, 2551, 2855, 2891, 2955, 2576, 1944, 1943, 1944, 1943, 1942, 1942, 1944, 1943, 1943, 1943, 1980, 1982, 1982, 1982, 1982, 1982, 1982, 1982, 1981, 1982, 1981, 1980, 1976, 2010, 2332, 2343, 2687, 3052, 3114, 3114, 2604, 2094, 1272, 1203, 1153, 1084, 1044, 1044, 1045, 8, 8, 8, 8, 7, 8, 8, 59, 162, 2547, 2515, 3284, 3283];\n",
       "update();\n",
       "console.log(\"updating\");\n",
       "</script>"
      ],
      "text/plain": [
       "<IPython.core.display.HTML object>"
      ]
     },
     "metadata": {},
     "output_type": "display_data"
    },
    {
     "name": "stdout",
     "output_type": "stream",
     "text": [
      "3283 [7, 8, 9, 8, 7, 8, 8, 22, 518, 1013, 1480, 1613, 2003, 2007, 2551, 2855, 2891, 2955, 2576, 1944, 1943, 1944, 1943, 1942, 1942, 1944, 1943, 1943, 1943, 1980, 1982, 1982, 1982, 1982, 1982, 1982, 1982, 1981, 1982, 1981, 1980, 1976, 2010, 2332, 2343, 2687, 3052, 3114, 3114, 2604, 2094, 1272, 1203, 1153, 1084, 1044, 1044, 1045, 8, 8, 8, 8, 7, 8, 8, 59, 162, 2547, 2515, 3284, 3283]\n"
     ]
    },
    {
     "data": {
      "text/html": [
       "<script>\n",
       "data = [7, 8, 9, 8, 7, 8, 8, 22, 518, 1013, 1480, 1613, 2003, 2007, 2551, 2855, 2891, 2955, 2576, 1944, 1943, 1944, 1943, 1942, 1942, 1944, 1943, 1943, 1943, 1980, 1982, 1982, 1982, 1982, 1982, 1982, 1982, 1981, 1982, 1981, 1980, 1976, 2010, 2332, 2343, 2687, 3052, 3114, 3114, 2604, 2094, 1272, 1203, 1153, 1084, 1044, 1044, 1045, 8, 8, 8, 8, 7, 8, 8, 59, 162, 2547, 2515, 3284, 3283, 3283];\n",
       "update();\n",
       "console.log(\"updating\");\n",
       "</script>"
      ],
      "text/plain": [
       "<IPython.core.display.HTML object>"
      ]
     },
     "metadata": {},
     "output_type": "display_data"
    },
    {
     "name": "stdout",
     "output_type": "stream",
     "text": [
      "3283 [7, 8, 9, 8, 7, 8, 8, 22, 518, 1013, 1480, 1613, 2003, 2007, 2551, 2855, 2891, 2955, 2576, 1944, 1943, 1944, 1943, 1942, 1942, 1944, 1943, 1943, 1943, 1980, 1982, 1982, 1982, 1982, 1982, 1982, 1982, 1981, 1982, 1981, 1980, 1976, 2010, 2332, 2343, 2687, 3052, 3114, 3114, 2604, 2094, 1272, 1203, 1153, 1084, 1044, 1044, 1045, 8, 8, 8, 8, 7, 8, 8, 59, 162, 2547, 2515, 3284, 3283, 3283]\n"
     ]
    },
    {
     "data": {
      "text/html": [
       "<script>\n",
       "data = [7, 8, 9, 8, 7, 8, 8, 22, 518, 1013, 1480, 1613, 2003, 2007, 2551, 2855, 2891, 2955, 2576, 1944, 1943, 1944, 1943, 1942, 1942, 1944, 1943, 1943, 1943, 1980, 1982, 1982, 1982, 1982, 1982, 1982, 1982, 1981, 1982, 1981, 1980, 1976, 2010, 2332, 2343, 2687, 3052, 3114, 3114, 2604, 2094, 1272, 1203, 1153, 1084, 1044, 1044, 1045, 8, 8, 8, 8, 7, 8, 8, 59, 162, 2547, 2515, 3284, 3283, 3283, 2813];\n",
       "update();\n",
       "console.log(\"updating\");\n",
       "</script>"
      ],
      "text/plain": [
       "<IPython.core.display.HTML object>"
      ]
     },
     "metadata": {},
     "output_type": "display_data"
    },
    {
     "name": "stdout",
     "output_type": "stream",
     "text": [
      "2813 [7, 8, 9, 8, 7, 8, 8, 22, 518, 1013, 1480, 1613, 2003, 2007, 2551, 2855, 2891, 2955, 2576, 1944, 1943, 1944, 1943, 1942, 1942, 1944, 1943, 1943, 1943, 1980, 1982, 1982, 1982, 1982, 1982, 1982, 1982, 1981, 1982, 1981, 1980, 1976, 2010, 2332, 2343, 2687, 3052, 3114, 3114, 2604, 2094, 1272, 1203, 1153, 1084, 1044, 1044, 1045, 8, 8, 8, 8, 7, 8, 8, 59, 162, 2547, 2515, 3284, 3283, 3283, 2813]\n"
     ]
    },
    {
     "data": {
      "text/html": [
       "<script>\n",
       "data = [7, 8, 9, 8, 7, 8, 8, 22, 518, 1013, 1480, 1613, 2003, 2007, 2551, 2855, 2891, 2955, 2576, 1944, 1943, 1944, 1943, 1942, 1942, 1944, 1943, 1943, 1943, 1980, 1982, 1982, 1982, 1982, 1982, 1982, 1982, 1981, 1982, 1981, 1980, 1976, 2010, 2332, 2343, 2687, 3052, 3114, 3114, 2604, 2094, 1272, 1203, 1153, 1084, 1044, 1044, 1045, 8, 8, 8, 8, 7, 8, 8, 59, 162, 2547, 2515, 3284, 3283, 3283, 2813, 304];\n",
       "update();\n",
       "console.log(\"updating\");\n",
       "</script>"
      ],
      "text/plain": [
       "<IPython.core.display.HTML object>"
      ]
     },
     "metadata": {},
     "output_type": "display_data"
    },
    {
     "name": "stdout",
     "output_type": "stream",
     "text": [
      "304 [7, 8, 9, 8, 7, 8, 8, 22, 518, 1013, 1480, 1613, 2003, 2007, 2551, 2855, 2891, 2955, 2576, 1944, 1943, 1944, 1943, 1942, 1942, 1944, 1943, 1943, 1943, 1980, 1982, 1982, 1982, 1982, 1982, 1982, 1982, 1981, 1982, 1981, 1980, 1976, 2010, 2332, 2343, 2687, 3052, 3114, 3114, 2604, 2094, 1272, 1203, 1153, 1084, 1044, 1044, 1045, 8, 8, 8, 8, 7, 8, 8, 59, 162, 2547, 2515, 3284, 3283, 3283, 2813, 304]\n"
     ]
    },
    {
     "data": {
      "text/html": [
       "<script>\n",
       "data = [7, 8, 9, 8, 7, 8, 8, 22, 518, 1013, 1480, 1613, 2003, 2007, 2551, 2855, 2891, 2955, 2576, 1944, 1943, 1944, 1943, 1942, 1942, 1944, 1943, 1943, 1943, 1980, 1982, 1982, 1982, 1982, 1982, 1982, 1982, 1981, 1982, 1981, 1980, 1976, 2010, 2332, 2343, 2687, 3052, 3114, 3114, 2604, 2094, 1272, 1203, 1153, 1084, 1044, 1044, 1045, 8, 8, 8, 8, 7, 8, 8, 59, 162, 2547, 2515, 3284, 3283, 3283, 2813, 304, 8];\n",
       "update();\n",
       "console.log(\"updating\");\n",
       "</script>"
      ],
      "text/plain": [
       "<IPython.core.display.HTML object>"
      ]
     },
     "metadata": {},
     "output_type": "display_data"
    },
    {
     "name": "stdout",
     "output_type": "stream",
     "text": [
      "8 [7, 8, 9, 8, 7, 8, 8, 22, 518, 1013, 1480, 1613, 2003, 2007, 2551, 2855, 2891, 2955, 2576, 1944, 1943, 1944, 1943, 1942, 1942, 1944, 1943, 1943, 1943, 1980, 1982, 1982, 1982, 1982, 1982, 1982, 1982, 1981, 1982, 1981, 1980, 1976, 2010, 2332, 2343, 2687, 3052, 3114, 3114, 2604, 2094, 1272, 1203, 1153, 1084, 1044, 1044, 1045, 8, 8, 8, 8, 7, 8, 8, 59, 162, 2547, 2515, 3284, 3283, 3283, 2813, 304, 8]\n"
     ]
    },
    {
     "data": {
      "text/html": [
       "<script>\n",
       "data = [7, 8, 9, 8, 7, 8, 8, 22, 518, 1013, 1480, 1613, 2003, 2007, 2551, 2855, 2891, 2955, 2576, 1944, 1943, 1944, 1943, 1942, 1942, 1944, 1943, 1943, 1943, 1980, 1982, 1982, 1982, 1982, 1982, 1982, 1982, 1981, 1982, 1981, 1980, 1976, 2010, 2332, 2343, 2687, 3052, 3114, 3114, 2604, 2094, 1272, 1203, 1153, 1084, 1044, 1044, 1045, 8, 8, 8, 8, 7, 8, 8, 59, 162, 2547, 2515, 3284, 3283, 3283, 2813, 304, 8, 8];\n",
       "update();\n",
       "console.log(\"updating\");\n",
       "</script>"
      ],
      "text/plain": [
       "<IPython.core.display.HTML object>"
      ]
     },
     "metadata": {},
     "output_type": "display_data"
    },
    {
     "name": "stdout",
     "output_type": "stream",
     "text": [
      "8 [7, 8, 9, 8, 7, 8, 8, 22, 518, 1013, 1480, 1613, 2003, 2007, 2551, 2855, 2891, 2955, 2576, 1944, 1943, 1944, 1943, 1942, 1942, 1944, 1943, 1943, 1943, 1980, 1982, 1982, 1982, 1982, 1982, 1982, 1982, 1981, 1982, 1981, 1980, 1976, 2010, 2332, 2343, 2687, 3052, 3114, 3114, 2604, 2094, 1272, 1203, 1153, 1084, 1044, 1044, 1045, 8, 8, 8, 8, 7, 8, 8, 59, 162, 2547, 2515, 3284, 3283, 3283, 2813, 304, 8, 8]\n"
     ]
    },
    {
     "data": {
      "text/html": [
       "<script>\n",
       "data = [7, 8, 9, 8, 7, 8, 8, 22, 518, 1013, 1480, 1613, 2003, 2007, 2551, 2855, 2891, 2955, 2576, 1944, 1943, 1944, 1943, 1942, 1942, 1944, 1943, 1943, 1943, 1980, 1982, 1982, 1982, 1982, 1982, 1982, 1982, 1981, 1982, 1981, 1980, 1976, 2010, 2332, 2343, 2687, 3052, 3114, 3114, 2604, 2094, 1272, 1203, 1153, 1084, 1044, 1044, 1045, 8, 8, 8, 8, 7, 8, 8, 59, 162, 2547, 2515, 3284, 3283, 3283, 2813, 304, 8, 8, 7];\n",
       "update();\n",
       "console.log(\"updating\");\n",
       "</script>"
      ],
      "text/plain": [
       "<IPython.core.display.HTML object>"
      ]
     },
     "metadata": {},
     "output_type": "display_data"
    },
    {
     "name": "stdout",
     "output_type": "stream",
     "text": [
      "7 [7, 8, 9, 8, 7, 8, 8, 22, 518, 1013, 1480, 1613, 2003, 2007, 2551, 2855, 2891, 2955, 2576, 1944, 1943, 1944, 1943, 1942, 1942, 1944, 1943, 1943, 1943, 1980, 1982, 1982, 1982, 1982, 1982, 1982, 1982, 1981, 1982, 1981, 1980, 1976, 2010, 2332, 2343, 2687, 3052, 3114, 3114, 2604, 2094, 1272, 1203, 1153, 1084, 1044, 1044, 1045, 8, 8, 8, 8, 7, 8, 8, 59, 162, 2547, 2515, 3284, 3283, 3283, 2813, 304, 8, 8, 7]\n"
     ]
    },
    {
     "data": {
      "text/html": [
       "<script>\n",
       "data = [7, 8, 9, 8, 7, 8, 8, 22, 518, 1013, 1480, 1613, 2003, 2007, 2551, 2855, 2891, 2955, 2576, 1944, 1943, 1944, 1943, 1942, 1942, 1944, 1943, 1943, 1943, 1980, 1982, 1982, 1982, 1982, 1982, 1982, 1982, 1981, 1982, 1981, 1980, 1976, 2010, 2332, 2343, 2687, 3052, 3114, 3114, 2604, 2094, 1272, 1203, 1153, 1084, 1044, 1044, 1045, 8, 8, 8, 8, 7, 8, 8, 59, 162, 2547, 2515, 3284, 3283, 3283, 2813, 304, 8, 8, 7, 93];\n",
       "update();\n",
       "console.log(\"updating\");\n",
       "</script>"
      ],
      "text/plain": [
       "<IPython.core.display.HTML object>"
      ]
     },
     "metadata": {},
     "output_type": "display_data"
    },
    {
     "name": "stdout",
     "output_type": "stream",
     "text": [
      "93 [7, 8, 9, 8, 7, 8, 8, 22, 518, 1013, 1480, 1613, 2003, 2007, 2551, 2855, 2891, 2955, 2576, 1944, 1943, 1944, 1943, 1942, 1942, 1944, 1943, 1943, 1943, 1980, 1982, 1982, 1982, 1982, 1982, 1982, 1982, 1981, 1982, 1981, 1980, 1976, 2010, 2332, 2343, 2687, 3052, 3114, 3114, 2604, 2094, 1272, 1203, 1153, 1084, 1044, 1044, 1045, 8, 8, 8, 8, 7, 8, 8, 59, 162, 2547, 2515, 3284, 3283, 3283, 2813, 304, 8, 8, 7, 93]\n"
     ]
    },
    {
     "data": {
      "text/html": [
       "<script>\n",
       "data = [7, 8, 9, 8, 7, 8, 8, 22, 518, 1013, 1480, 1613, 2003, 2007, 2551, 2855, 2891, 2955, 2576, 1944, 1943, 1944, 1943, 1942, 1942, 1944, 1943, 1943, 1943, 1980, 1982, 1982, 1982, 1982, 1982, 1982, 1982, 1981, 1982, 1981, 1980, 1976, 2010, 2332, 2343, 2687, 3052, 3114, 3114, 2604, 2094, 1272, 1203, 1153, 1084, 1044, 1044, 1045, 8, 8, 8, 8, 7, 8, 8, 59, 162, 2547, 2515, 3284, 3283, 3283, 2813, 304, 8, 8, 7, 93, 2280];\n",
       "update();\n",
       "console.log(\"updating\");\n",
       "</script>"
      ],
      "text/plain": [
       "<IPython.core.display.HTML object>"
      ]
     },
     "metadata": {},
     "output_type": "display_data"
    },
    {
     "name": "stdout",
     "output_type": "stream",
     "text": [
      "2280 [7, 8, 9, 8, 7, 8, 8, 22, 518, 1013, 1480, 1613, 2003, 2007, 2551, 2855, 2891, 2955, 2576, 1944, 1943, 1944, 1943, 1942, 1942, 1944, 1943, 1943, 1943, 1980, 1982, 1982, 1982, 1982, 1982, 1982, 1982, 1981, 1982, 1981, 1980, 1976, 2010, 2332, 2343, 2687, 3052, 3114, 3114, 2604, 2094, 1272, 1203, 1153, 1084, 1044, 1044, 1045, 8, 8, 8, 8, 7, 8, 8, 59, 162, 2547, 2515, 3284, 3283, 3283, 2813, 304, 8, 8, 7, 93, 2280]\n"
     ]
    },
    {
     "data": {
      "text/html": [
       "<script>\n",
       "data = [7, 8, 9, 8, 7, 8, 8, 22, 518, 1013, 1480, 1613, 2003, 2007, 2551, 2855, 2891, 2955, 2576, 1944, 1943, 1944, 1943, 1942, 1942, 1944, 1943, 1943, 1943, 1980, 1982, 1982, 1982, 1982, 1982, 1982, 1982, 1981, 1982, 1981, 1980, 1976, 2010, 2332, 2343, 2687, 3052, 3114, 3114, 2604, 2094, 1272, 1203, 1153, 1084, 1044, 1044, 1045, 8, 8, 8, 8, 7, 8, 8, 59, 162, 2547, 2515, 3284, 3283, 3283, 2813, 304, 8, 8, 7, 93, 2280, 2464];\n",
       "update();\n",
       "console.log(\"updating\");\n",
       "</script>"
      ],
      "text/plain": [
       "<IPython.core.display.HTML object>"
      ]
     },
     "metadata": {},
     "output_type": "display_data"
    },
    {
     "name": "stdout",
     "output_type": "stream",
     "text": [
      "2464 [7, 8, 9, 8, 7, 8, 8, 22, 518, 1013, 1480, 1613, 2003, 2007, 2551, 2855, 2891, 2955, 2576, 1944, 1943, 1944, 1943, 1942, 1942, 1944, 1943, 1943, 1943, 1980, 1982, 1982, 1982, 1982, 1982, 1982, 1982, 1981, 1982, 1981, 1980, 1976, 2010, 2332, 2343, 2687, 3052, 3114, 3114, 2604, 2094, 1272, 1203, 1153, 1084, 1044, 1044, 1045, 8, 8, 8, 8, 7, 8, 8, 59, 162, 2547, 2515, 3284, 3283, 3283, 2813, 304, 8, 8, 7, 93, 2280, 2464]\n"
     ]
    },
    {
     "data": {
      "text/html": [
       "<script>\n",
       "data = [7, 8, 9, 8, 7, 8, 8, 22, 518, 1013, 1480, 1613, 2003, 2007, 2551, 2855, 2891, 2955, 2576, 1944, 1943, 1944, 1943, 1942, 1942, 1944, 1943, 1943, 1943, 1980, 1982, 1982, 1982, 1982, 1982, 1982, 1982, 1981, 1982, 1981, 1980, 1976, 2010, 2332, 2343, 2687, 3052, 3114, 3114, 2604, 2094, 1272, 1203, 1153, 1084, 1044, 1044, 1045, 8, 8, 8, 8, 7, 8, 8, 59, 162, 2547, 2515, 3284, 3283, 3283, 2813, 304, 8, 8, 7, 93, 2280, 2464, 2467];\n",
       "update();\n",
       "console.log(\"updating\");\n",
       "</script>"
      ],
      "text/plain": [
       "<IPython.core.display.HTML object>"
      ]
     },
     "metadata": {},
     "output_type": "display_data"
    },
    {
     "name": "stdout",
     "output_type": "stream",
     "text": [
      "2467 [7, 8, 9, 8, 7, 8, 8, 22, 518, 1013, 1480, 1613, 2003, 2007, 2551, 2855, 2891, 2955, 2576, 1944, 1943, 1944, 1943, 1942, 1942, 1944, 1943, 1943, 1943, 1980, 1982, 1982, 1982, 1982, 1982, 1982, 1982, 1981, 1982, 1981, 1980, 1976, 2010, 2332, 2343, 2687, 3052, 3114, 3114, 2604, 2094, 1272, 1203, 1153, 1084, 1044, 1044, 1045, 8, 8, 8, 8, 7, 8, 8, 59, 162, 2547, 2515, 3284, 3283, 3283, 2813, 304, 8, 8, 7, 93, 2280, 2464, 2467]\n"
     ]
    },
    {
     "data": {
      "text/html": [
       "<script>\n",
       "data = [7, 8, 9, 8, 7, 8, 8, 22, 518, 1013, 1480, 1613, 2003, 2007, 2551, 2855, 2891, 2955, 2576, 1944, 1943, 1944, 1943, 1942, 1942, 1944, 1943, 1943, 1943, 1980, 1982, 1982, 1982, 1982, 1982, 1982, 1982, 1981, 1982, 1981, 1980, 1976, 2010, 2332, 2343, 2687, 3052, 3114, 3114, 2604, 2094, 1272, 1203, 1153, 1084, 1044, 1044, 1045, 8, 8, 8, 8, 7, 8, 8, 59, 162, 2547, 2515, 3284, 3283, 3283, 2813, 304, 8, 8, 7, 93, 2280, 2464, 2467, 595];\n",
       "update();\n",
       "console.log(\"updating\");\n",
       "</script>"
      ],
      "text/plain": [
       "<IPython.core.display.HTML object>"
      ]
     },
     "metadata": {},
     "output_type": "display_data"
    },
    {
     "name": "stdout",
     "output_type": "stream",
     "text": [
      "595 [7, 8, 9, 8, 7, 8, 8, 22, 518, 1013, 1480, 1613, 2003, 2007, 2551, 2855, 2891, 2955, 2576, 1944, 1943, 1944, 1943, 1942, 1942, 1944, 1943, 1943, 1943, 1980, 1982, 1982, 1982, 1982, 1982, 1982, 1982, 1981, 1982, 1981, 1980, 1976, 2010, 2332, 2343, 2687, 3052, 3114, 3114, 2604, 2094, 1272, 1203, 1153, 1084, 1044, 1044, 1045, 8, 8, 8, 8, 7, 8, 8, 59, 162, 2547, 2515, 3284, 3283, 3283, 2813, 304, 8, 8, 7, 93, 2280, 2464, 2467, 595]\n"
     ]
    },
    {
     "data": {
      "text/html": [
       "<script>\n",
       "data = [7, 8, 9, 8, 7, 8, 8, 22, 518, 1013, 1480, 1613, 2003, 2007, 2551, 2855, 2891, 2955, 2576, 1944, 1943, 1944, 1943, 1942, 1942, 1944, 1943, 1943, 1943, 1980, 1982, 1982, 1982, 1982, 1982, 1982, 1982, 1981, 1982, 1981, 1980, 1976, 2010, 2332, 2343, 2687, 3052, 3114, 3114, 2604, 2094, 1272, 1203, 1153, 1084, 1044, 1044, 1045, 8, 8, 8, 8, 7, 8, 8, 59, 162, 2547, 2515, 3284, 3283, 3283, 2813, 304, 8, 8, 7, 93, 2280, 2464, 2467, 595, 67];\n",
       "update();\n",
       "console.log(\"updating\");\n",
       "</script>"
      ],
      "text/plain": [
       "<IPython.core.display.HTML object>"
      ]
     },
     "metadata": {},
     "output_type": "display_data"
    },
    {
     "name": "stdout",
     "output_type": "stream",
     "text": [
      "67 [7, 8, 9, 8, 7, 8, 8, 22, 518, 1013, 1480, 1613, 2003, 2007, 2551, 2855, 2891, 2955, 2576, 1944, 1943, 1944, 1943, 1942, 1942, 1944, 1943, 1943, 1943, 1980, 1982, 1982, 1982, 1982, 1982, 1982, 1982, 1981, 1982, 1981, 1980, 1976, 2010, 2332, 2343, 2687, 3052, 3114, 3114, 2604, 2094, 1272, 1203, 1153, 1084, 1044, 1044, 1045, 8, 8, 8, 8, 7, 8, 8, 59, 162, 2547, 2515, 3284, 3283, 3283, 2813, 304, 8, 8, 7, 93, 2280, 2464, 2467, 595, 67]\n"
     ]
    },
    {
     "data": {
      "text/html": [
       "<script>\n",
       "data = [7, 8, 9, 8, 7, 8, 8, 22, 518, 1013, 1480, 1613, 2003, 2007, 2551, 2855, 2891, 2955, 2576, 1944, 1943, 1944, 1943, 1942, 1942, 1944, 1943, 1943, 1943, 1980, 1982, 1982, 1982, 1982, 1982, 1982, 1982, 1981, 1982, 1981, 1980, 1976, 2010, 2332, 2343, 2687, 3052, 3114, 3114, 2604, 2094, 1272, 1203, 1153, 1084, 1044, 1044, 1045, 8, 8, 8, 8, 7, 8, 8, 59, 162, 2547, 2515, 3284, 3283, 3283, 2813, 304, 8, 8, 7, 93, 2280, 2464, 2467, 595, 67, 10];\n",
       "update();\n",
       "console.log(\"updating\");\n",
       "</script>"
      ],
      "text/plain": [
       "<IPython.core.display.HTML object>"
      ]
     },
     "metadata": {},
     "output_type": "display_data"
    },
    {
     "name": "stdout",
     "output_type": "stream",
     "text": [
      "10 [7, 8, 9, 8, 7, 8, 8, 22, 518, 1013, 1480, 1613, 2003, 2007, 2551, 2855, 2891, 2955, 2576, 1944, 1943, 1944, 1943, 1942, 1942, 1944, 1943, 1943, 1943, 1980, 1982, 1982, 1982, 1982, 1982, 1982, 1982, 1981, 1982, 1981, 1980, 1976, 2010, 2332, 2343, 2687, 3052, 3114, 3114, 2604, 2094, 1272, 1203, 1153, 1084, 1044, 1044, 1045, 8, 8, 8, 8, 7, 8, 8, 59, 162, 2547, 2515, 3284, 3283, 3283, 2813, 304, 8, 8, 7, 93, 2280, 2464, 2467, 595, 67, 10]\n"
     ]
    },
    {
     "data": {
      "text/html": [
       "<script>\n",
       "data = [7, 8, 9, 8, 7, 8, 8, 22, 518, 1013, 1480, 1613, 2003, 2007, 2551, 2855, 2891, 2955, 2576, 1944, 1943, 1944, 1943, 1942, 1942, 1944, 1943, 1943, 1943, 1980, 1982, 1982, 1982, 1982, 1982, 1982, 1982, 1981, 1982, 1981, 1980, 1976, 2010, 2332, 2343, 2687, 3052, 3114, 3114, 2604, 2094, 1272, 1203, 1153, 1084, 1044, 1044, 1045, 8, 8, 8, 8, 7, 8, 8, 59, 162, 2547, 2515, 3284, 3283, 3283, 2813, 304, 8, 8, 7, 93, 2280, 2464, 2467, 595, 67, 10, 8];\n",
       "update();\n",
       "console.log(\"updating\");\n",
       "</script>"
      ],
      "text/plain": [
       "<IPython.core.display.HTML object>"
      ]
     },
     "metadata": {},
     "output_type": "display_data"
    },
    {
     "name": "stdout",
     "output_type": "stream",
     "text": [
      "8 [7, 8, 9, 8, 7, 8, 8, 22, 518, 1013, 1480, 1613, 2003, 2007, 2551, 2855, 2891, 2955, 2576, 1944, 1943, 1944, 1943, 1942, 1942, 1944, 1943, 1943, 1943, 1980, 1982, 1982, 1982, 1982, 1982, 1982, 1982, 1981, 1982, 1981, 1980, 1976, 2010, 2332, 2343, 2687, 3052, 3114, 3114, 2604, 2094, 1272, 1203, 1153, 1084, 1044, 1044, 1045, 8, 8, 8, 8, 7, 8, 8, 59, 162, 2547, 2515, 3284, 3283, 3283, 2813, 304, 8, 8, 7, 93, 2280, 2464, 2467, 595, 67, 10, 8]\n"
     ]
    },
    {
     "data": {
      "text/html": [
       "<script>\n",
       "data = [7, 8, 9, 8, 7, 8, 8, 22, 518, 1013, 1480, 1613, 2003, 2007, 2551, 2855, 2891, 2955, 2576, 1944, 1943, 1944, 1943, 1942, 1942, 1944, 1943, 1943, 1943, 1980, 1982, 1982, 1982, 1982, 1982, 1982, 1982, 1981, 1982, 1981, 1980, 1976, 2010, 2332, 2343, 2687, 3052, 3114, 3114, 2604, 2094, 1272, 1203, 1153, 1084, 1044, 1044, 1045, 8, 8, 8, 8, 7, 8, 8, 59, 162, 2547, 2515, 3284, 3283, 3283, 2813, 304, 8, 8, 7, 93, 2280, 2464, 2467, 595, 67, 10, 8, 7];\n",
       "update();\n",
       "console.log(\"updating\");\n",
       "</script>"
      ],
      "text/plain": [
       "<IPython.core.display.HTML object>"
      ]
     },
     "metadata": {},
     "output_type": "display_data"
    },
    {
     "name": "stdout",
     "output_type": "stream",
     "text": [
      "7 [7, 8, 9, 8, 7, 8, 8, 22, 518, 1013, 1480, 1613, 2003, 2007, 2551, 2855, 2891, 2955, 2576, 1944, 1943, 1944, 1943, 1942, 1942, 1944, 1943, 1943, 1943, 1980, 1982, 1982, 1982, 1982, 1982, 1982, 1982, 1981, 1982, 1981, 1980, 1976, 2010, 2332, 2343, 2687, 3052, 3114, 3114, 2604, 2094, 1272, 1203, 1153, 1084, 1044, 1044, 1045, 8, 8, 8, 8, 7, 8, 8, 59, 162, 2547, 2515, 3284, 3283, 3283, 2813, 304, 8, 8, 7, 93, 2280, 2464, 2467, 595, 67, 10, 8, 7]\n"
     ]
    },
    {
     "data": {
      "text/html": [
       "<script>\n",
       "data = [7, 8, 9, 8, 7, 8, 8, 22, 518, 1013, 1480, 1613, 2003, 2007, 2551, 2855, 2891, 2955, 2576, 1944, 1943, 1944, 1943, 1942, 1942, 1944, 1943, 1943, 1943, 1980, 1982, 1982, 1982, 1982, 1982, 1982, 1982, 1981, 1982, 1981, 1980, 1976, 2010, 2332, 2343, 2687, 3052, 3114, 3114, 2604, 2094, 1272, 1203, 1153, 1084, 1044, 1044, 1045, 8, 8, 8, 8, 7, 8, 8, 59, 162, 2547, 2515, 3284, 3283, 3283, 2813, 304, 8, 8, 7, 93, 2280, 2464, 2467, 595, 67, 10, 8, 7, 9];\n",
       "update();\n",
       "console.log(\"updating\");\n",
       "</script>"
      ],
      "text/plain": [
       "<IPython.core.display.HTML object>"
      ]
     },
     "metadata": {},
     "output_type": "display_data"
    },
    {
     "name": "stdout",
     "output_type": "stream",
     "text": [
      "9 [7, 8, 9, 8, 7, 8, 8, 22, 518, 1013, 1480, 1613, 2003, 2007, 2551, 2855, 2891, 2955, 2576, 1944, 1943, 1944, 1943, 1942, 1942, 1944, 1943, 1943, 1943, 1980, 1982, 1982, 1982, 1982, 1982, 1982, 1982, 1981, 1982, 1981, 1980, 1976, 2010, 2332, 2343, 2687, 3052, 3114, 3114, 2604, 2094, 1272, 1203, 1153, 1084, 1044, 1044, 1045, 8, 8, 8, 8, 7, 8, 8, 59, 162, 2547, 2515, 3284, 3283, 3283, 2813, 304, 8, 8, 7, 93, 2280, 2464, 2467, 595, 67, 10, 8, 7, 9]\n"
     ]
    }
   ],
   "source": [
    "import paho.mqtt.client as mqtt\n",
    "\n",
    "data = []\n",
    "tests = [[]]\n",
    "\n",
    "update_graph(data)\n",
    "\n",
    "def on_connect(client, userdata, flags, rc):\n",
    "    print(\"Connected with result code \"+str(rc))\n",
    "    client.subscribe(\"/outTopic\")\n",
    "\n",
    "def on_message(client, userdata, msg):\n",
    "    global data\n",
    "    try:\n",
    "        msg_json = json.loads(msg.payload)\n",
    "    except:\n",
    "        print \"Error\"\n",
    "        print(msg.topic+\" \"+str(msg.payload))\n",
    "        return\n",
    "    # if msg_json['type'] == \"BREAK\" and msg_json['label'] == \"LOOP\":  # and msg_json['value'] == \"END\":\n",
    "    #     tests.append(data)\n",
    "    #     data = []\n",
    "    #     update_graph(data)\n",
    "    if msg_json['type'] == \"BINARY\" and msg_json['label'] == \"A0\":\n",
    "        data.append(int(msg_json['value']))\n",
    "        # tests[-1] = data\n",
    "        update_graph(data)\n",
    "        print int(msg_json['value']), data\n",
    "\n",
    "client = mqtt.Client()\n",
    "client.on_connect = on_connect\n",
    "client.on_message = on_message\n",
    "client.username_pw_set(\"zettlmtm\", \"VOUbRcmhjffA\")\n",
    "client.connect(\"m11.cloudmqtt.com\", 19280, 60)\n",
    "client.loop_start()\n",
    "# Make sure to call client.loop_stop() later"
   ]
  },
  {
   "cell_type": "code",
   "execution_count": 25,
   "metadata": {
    "collapsed": false
   },
   "outputs": [],
   "source": [
    "client.loop_stop()"
   ]
  },
  {
   "cell_type": "code",
   "execution_count": 24,
   "metadata": {
    "collapsed": false
   },
   "outputs": [
    {
     "name": "stdout",
     "output_type": "stream",
     "text": [
      "[7, 8, 9, 8, 7, 8, 8, 22, 518, 1013, 1480, 1613, 2003, 2007, 2551, 2855, 2891, 2955, 2576, 1944, 1943, 1944, 1943, 1942, 1942, 1944, 1943, 1943, 1943, 1980, 1982, 1982, 1982, 1982, 1982, 1982, 1982, 1981, 1982, 1981, 1980, 1976, 2010, 2332, 2343, 2687, 3052, 3114, 3114, 2604, 2094, 1272, 1203, 1153, 1084, 1044, 1044, 1045, 8, 8, 8, 8, 7, 8, 8, 59, 162, 2547, 2515, 3284, 3283, 3283, 2813, 304, 8, 8, 7, 93, 2280, 2464, 2467, 595, 67, 10, 8, 7, 9]\n"
     ]
    }
   ],
   "source": [
    "print data"
   ]
  },
  {
   "cell_type": "code",
   "execution_count": null,
   "metadata": {
    "collapsed": true
   },
   "outputs": [],
   "source": []
  }
 ],
 "metadata": {
  "kernelspec": {
   "display_name": "Python 2",
   "language": "python",
   "name": "python2"
  },
  "language_info": {
   "codemirror_mode": {
    "name": "ipython",
    "version": 2
   },
   "file_extension": ".py",
   "mimetype": "text/x-python",
   "name": "python",
   "nbconvert_exporter": "python",
   "pygments_lexer": "ipython2",
   "version": "2.7.11"
  }
 },
 "nbformat": 4,
 "nbformat_minor": 1
}
